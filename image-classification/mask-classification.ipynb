{
 "metadata": {
  "language_info": {
   "codemirror_mode": {
    "name": "ipython",
    "version": 3
   },
   "file_extension": ".py",
   "mimetype": "text/x-python",
   "name": "python",
   "nbconvert_exporter": "python",
   "pygments_lexer": "ipython3",
   "version": "3.7.9-final"
  },
  "orig_nbformat": 2,
  "kernelspec": {
   "name": "Python 3.7.9 64-bit ('tf_env': conda)",
   "display_name": "Python 3.7.9 64-bit ('tf_env': conda)",
   "metadata": {
    "interpreter": {
     "hash": "07a1d00ae2162815ae6e2da7ddb78c532f34cdf0562699979b491324286053b0"
    }
   }
  }
 },
 "nbformat": 4,
 "nbformat_minor": 2,
 "cells": [
  {
   "source": [
    "Mask Classification "
   ],
   "cell_type": "markdown",
   "metadata": {}
  },
  {
   "cell_type": "code",
   "execution_count": 1,
   "metadata": {},
   "outputs": [],
   "source": [
    "import os\n",
    "import numpy as np \n",
    "import tensorflow as tf \n",
    "import pandas\n",
    "\n",
    "SEED = 1234\n",
    "\n",
    "tf.random.set_seed(SEED)\n",
    "\n",
    "cwd = os.getcwd();"
   ]
  },
  {
   "cell_type": "code",
   "execution_count": 2,
   "metadata": {},
   "outputs": [],
   "source": [
    "from tensorflow.keras.preprocessing.image import ImageDataGenerator\n",
    "\n",
    "\n",
    "apply_data_augmentation = True\n",
    "\n",
    "if apply_data_augmentation: #if data augmentation is enabled, create the generator\n",
    "     train_data_gen = ImageDataGenerator(rotation_range=10,\n",
    "                                        zoom_range=0.1,\n",
    "                                        horizontal_flip=True,\n",
    "                                        vertical_flip=True,\n",
    "                                        fill_mode='constant',\n",
    "                                        cval=0,\n",
    "                                        validation_split = 0.3,\n",
    "                                        rescale=1./255)\n",
    "else: #rescale only the image\n",
    "     train_data_gen = ImageDataGenerator(rescale = 1./255, validation_split = 0.3)                                       \n",
    "\n",
    "#rescale only on validation dataset and test dataset\n",
    "valid_data_gen = ImageDataGenerator(rescale = 1./255)\n",
    "\n",
    "test_data_gen = ImageDataGenerator(rescale = 1./255)\n"
   ]
  },
  {
   "cell_type": "code",
   "execution_count": 3,
   "metadata": {},
   "outputs": [],
   "source": [
    "#width and height of imgaes\n",
    "img_w = 256\n",
    "img_h = 256\n",
    "\n",
    "num_classes = 3\n",
    "\n",
    "classes = [\"NO PERSON\", \"ALL THE PEOPLE\", \"SOMEONE\"]\n",
    "\n",
    "bs = 32 #batch size"
   ]
  },
  {
   "cell_type": "code",
   "execution_count": 4,
   "metadata": {},
   "outputs": [
    {
     "output_type": "stream",
     "name": "stdout",
     "text": [
      "Found 5614 validated image filenames belonging to 3 classes.\n",
      "Found 5614 validated image filenames belonging to 3 classes.\n"
     ]
    }
   ],
   "source": [
    "from IPython.core.interactiveshell import InteractiveShell\n",
    "InteractiveShell.ast_node_interactivity = \"all\"\n",
    "\n",
    "#Loading data \n",
    "import json \n",
    "\n",
    "#setting dirs\n",
    "dataset_dir = os.path.join(cwd, \"MaskDataset\")\n",
    "training_dir = os.path.join(dataset_dir, \"training\")\n",
    "validation_dir = training_dir\n",
    "\n",
    "\n",
    "#reading json file\n",
    "with open(os.path.join(dataset_dir,\"train_gt.json\")) as f:\n",
    "  dic = json.load(f)\n",
    "\n",
    "\n",
    "dataframe = pandas.DataFrame(dic.items())\n",
    "\n",
    "dataframe.rename(columns = {0:'filename', 1:'class'}, inplace = True)\n",
    "\n",
    "dataframe[\"class\"] = dataframe[\"class\"].astype(str)\n",
    "\n",
    "train_gen = train_data_gen.flow_from_dataframe(dataframe,\n",
    "                                               training_dir,\n",
    "                                               batch_size=bs,\n",
    "                                               target_size=(img_h, img_w),\n",
    "                                               class_mode='categorical',\n",
    "                                               shuffle=True,\n",
    "                                               seed=SEED)\n",
    "\n",
    "valid_gen = valid_data_gen.flow_from_dataframe(dataframe,\n",
    "                                               training_dir,\n",
    "                                               batch_size=bs,\n",
    "                                               target_size=(img_h, img_w),\n",
    "                                               class_mode='categorical',\n",
    "                                               shuffle=True,\n",
    "                                               seed=SEED)                                                                                                                                                                                     "
   ]
  },
  {
   "cell_type": "code",
   "execution_count": 5,
   "metadata": {},
   "outputs": [],
   "source": [
    "#Creating Dataset objects\n",
    "\n",
    "\n",
    "train_dataset = tf.data.Dataset.from_generator(lambda: train_gen,\n",
    "                                               output_types=(tf.float32, tf.float32),\n",
    "                                               output_shapes=([None, img_h, img_w, 3], [None, num_classes]))\n",
    "\n",
    "train_dataset = train_dataset.repeat()\n",
    "\n",
    "\n",
    "valid_dataset = tf.data.Dataset.from_generator(lambda: valid_gen,\n",
    "                                               output_types=(tf.float32, tf.float32),\n",
    "                                               output_shapes=([None, img_h, img_w, 3], [None, num_classes]))\n",
    "\n",
    "valid_dataset = valid_dataset.repeat()     \n"
   ]
  },
  {
   "cell_type": "code",
   "execution_count": 6,
   "metadata": {},
   "outputs": [],
   "source": [
    "# Architecture: Features extraction -> Classifier\n",
    "\n",
    "start_f = 8\n",
    "depth = 5\n",
    "\n",
    "model = tf.keras.Sequential()\n",
    "\n",
    "# Features extraction\n",
    "for i in range(depth):\n",
    "\n",
    "    if i == 0:\n",
    "        input_shape = [img_h, img_w, 3]\n",
    "    else:\n",
    "        input_shape=[None]\n",
    "\n",
    "    # Conv block: Conv2D -> Activation -> Pooling\n",
    "    model.add(tf.keras.layers.Conv2D(filters=start_f, \n",
    "                                     kernel_size=(3, 3),\n",
    "                                     strides=(1, 1),\n",
    "                                     padding='same',\n",
    "                                     input_shape=input_shape))\n",
    "    model.add(tf.keras.layers.ReLU())\n",
    "    model.add(tf.keras.layers.MaxPool2D(pool_size=(2, 2)))\n",
    "\n",
    "    start_f *= 2\n",
    "    \n",
    "# Classifier\n",
    "model.add(tf.keras.layers.Flatten())\n",
    "model.add(tf.keras.layers.Dense(units=512, activation='relu'))\n",
    "model.add(tf.keras.layers.Dense(units=num_classes, activation='softmax'))"
   ]
  },
  {
   "cell_type": "code",
   "execution_count": null,
   "metadata": {},
   "outputs": [],
   "source": []
  },
  {
   "cell_type": "code",
   "execution_count": 7,
   "metadata": {},
   "outputs": [
    {
     "output_type": "stream",
     "name": "stdout",
     "text": [
      "Model: \"sequential\"\n_________________________________________________________________\nLayer (type)                 Output Shape              Param #   \n=================================================================\nconv2d (Conv2D)              (None, 256, 256, 8)       224       \n_________________________________________________________________\nre_lu (ReLU)                 (None, 256, 256, 8)       0         \n_________________________________________________________________\nmax_pooling2d (MaxPooling2D) (None, 128, 128, 8)       0         \n_________________________________________________________________\nconv2d_1 (Conv2D)            (None, 128, 128, 16)      1168      \n_________________________________________________________________\nre_lu_1 (ReLU)               (None, 128, 128, 16)      0         \n_________________________________________________________________\nmax_pooling2d_1 (MaxPooling2 (None, 64, 64, 16)        0         \n_________________________________________________________________\nconv2d_2 (Conv2D)            (None, 64, 64, 32)        4640      \n_________________________________________________________________\nre_lu_2 (ReLU)               (None, 64, 64, 32)        0         \n_________________________________________________________________\nmax_pooling2d_2 (MaxPooling2 (None, 32, 32, 32)        0         \n_________________________________________________________________\nconv2d_3 (Conv2D)            (None, 32, 32, 64)        18496     \n_________________________________________________________________\nre_lu_3 (ReLU)               (None, 32, 32, 64)        0         \n_________________________________________________________________\nmax_pooling2d_3 (MaxPooling2 (None, 16, 16, 64)        0         \n_________________________________________________________________\nconv2d_4 (Conv2D)            (None, 16, 16, 128)       73856     \n_________________________________________________________________\nre_lu_4 (ReLU)               (None, 16, 16, 128)       0         \n_________________________________________________________________\nmax_pooling2d_4 (MaxPooling2 (None, 8, 8, 128)         0         \n_________________________________________________________________\nflatten (Flatten)            (None, 8192)              0         \n_________________________________________________________________\ndense (Dense)                (None, 512)               4194816   \n_________________________________________________________________\ndense_1 (Dense)              (None, 3)                 1539      \n=================================================================\nTotal params: 4,294,739\nTrainable params: 4,294,739\nNon-trainable params: 0\n_________________________________________________________________\n"
     ]
    }
   ],
   "source": [
    "model.summary()"
   ]
  },
  {
   "cell_type": "code",
   "execution_count": 9,
   "metadata": {},
   "outputs": [
    {
     "output_type": "execute_result",
     "data": {
      "text/plain": [
       "<tensorflow.python.training.tracking.util.CheckpointLoadStatus at 0x20f8cd66848>"
      ]
     },
     "metadata": {},
     "execution_count": 9
    }
   ],
   "source": [
    "# Load the model\n",
    "load_model = False\n",
    "if load_model:\n",
    "    latest = tf.train.latest_checkpoint(os.path.join(\"C:\\\\Users\\\\Giovanni\\\\Desktop\\\\Università\\\\Magistrale\\\\ANN\\\\AN2DL-homeworks\\\\image-classification\\\\classification_experiments\\\\CNN_Nov10_20-15-27\\ckpts\", \"\"))\n",
    "    model.load_weights(latest, by_name=False)"
   ]
  },
  {
   "cell_type": "code",
   "execution_count": 10,
   "metadata": {},
   "outputs": [],
   "source": [
    "# Optimization params\n",
    "# -------------------\n",
    "\n",
    "# Loss\n",
    "loss = tf.keras.losses.CategoricalCrossentropy()\n",
    "\n",
    "# learning rate\n",
    "lr = 1e-4\n",
    "optimizer = tf.keras.optimizers.Adam(learning_rate=lr)\n",
    "# -------------------\n",
    "\n",
    "# Validation metrics\n",
    "# ------------------\n",
    "\n",
    "metrics = ['accuracy']\n",
    "# ------------------\n",
    "\n",
    "# Compile Model\n",
    "model.compile(optimizer=optimizer, loss=loss, metrics=metrics)"
   ]
  },
  {
   "cell_type": "code",
   "execution_count": 11,
   "metadata": {},
   "outputs": [],
   "source": [
    "from datetime import datetime\n",
    "\n",
    "\n",
    "\n",
    "exps_dir = os.path.join(cwd, 'classification_experiments')\n",
    "if not os.path.exists(exps_dir):\n",
    "    os.makedirs(exps_dir)\n",
    "\n",
    "now = datetime.now().strftime('%b%d_%H-%M-%S')\n",
    "\n",
    "model_name = 'CNN'\n",
    "\n",
    "exp_dir = os.path.join(exps_dir, model_name + '_' + str(now))\n",
    "if not os.path.exists(exp_dir):\n",
    "    os.makedirs(exp_dir)\n",
    "    \n",
    "callbacks = []\n",
    "\n",
    "# Model checkpoint\n",
    "# ----------------\n",
    "ckpt_dir = os.path.join(exp_dir, 'ckpts')\n",
    "if not os.path.exists(ckpt_dir):\n",
    "    os.makedirs(ckpt_dir)\n",
    "\n",
    "ckpt_callback = tf.keras.callbacks.ModelCheckpoint(filepath=os.path.join(ckpt_dir, 'cp_{epoch:02d}.ckpt'), \n",
    "                                                   save_weights_only=True)  # False to save the model directly\n",
    "callbacks.append(ckpt_callback)\n",
    "\n",
    "# Visualize Learning on Tensorboard\n",
    "# ---------------------------------\n",
    "tb_dir = os.path.join(exp_dir, 'tb_logs')\n",
    "if not os.path.exists(tb_dir):\n",
    "    os.makedirs(tb_dir)\n",
    "    \n",
    "# By default shows losses and metrics for both training and validation\n",
    "tb_callback = tf.keras.callbacks.TensorBoard(log_dir=tb_dir,\n",
    "                                             profile_batch=0,\n",
    "                                             histogram_freq=1)  # if 1 shows weights histograms\n",
    "callbacks.append(tb_callback)\n",
    "\n",
    "# Early Stopping\n",
    "# --------------\n",
    "early_stop = True\n",
    "if early_stop:\n",
    "    es_callback = tf.keras.callbacks.EarlyStopping(monitor='val_loss', patience=5)\n",
    "    callbacks.append(es_callback)"
   ]
  },
  {
   "cell_type": "code",
   "execution_count": 12,
   "metadata": {},
   "outputs": [
    {
     "output_type": "stream",
     "name": "stdout",
     "text": [
      "Epoch 1/30\n",
      "176/176 [==============================] - 148s 838ms/step - loss: 0.6788 - accuracy: 0.6831 - val_loss: 0.7582 - val_accuracy: 0.6448\n",
      "Epoch 2/30\n",
      "176/176 [==============================] - 140s 797ms/step - loss: 0.6702 - accuracy: 0.6910 - val_loss: 0.6611 - val_accuracy: 0.7016\n",
      "Epoch 3/30\n",
      "176/176 [==============================] - 142s 805ms/step - loss: 0.6584 - accuracy: 0.7004 - val_loss: 0.7662 - val_accuracy: 0.6375\n",
      "Epoch 4/30\n",
      "176/176 [==============================] - 144s 815ms/step - loss: 0.6445 - accuracy: 0.7100 - val_loss: 0.6604 - val_accuracy: 0.7024\n",
      "Epoch 5/30\n",
      "176/176 [==============================] - 135s 768ms/step - loss: 0.6455 - accuracy: 0.6974 - val_loss: 0.6876 - val_accuracy: 0.6892\n",
      "Epoch 6/30\n",
      "176/176 [==============================] - 140s 795ms/step - loss: 0.6395 - accuracy: 0.7120 - val_loss: 0.6153 - val_accuracy: 0.7255\n",
      "Epoch 7/30\n",
      "176/176 [==============================] - 136s 772ms/step - loss: 0.6259 - accuracy: 0.7175 - val_loss: 0.6236 - val_accuracy: 0.7218\n",
      "Epoch 8/30\n",
      "176/176 [==============================] - 140s 793ms/step - loss: 0.6114 - accuracy: 0.7276 - val_loss: 0.6311 - val_accuracy: 0.7178\n",
      "Epoch 9/30\n",
      "176/176 [==============================] - 141s 802ms/step - loss: 0.6058 - accuracy: 0.7260 - val_loss: 0.6284 - val_accuracy: 0.7200\n",
      "Epoch 10/30\n",
      "176/176 [==============================] - 134s 764ms/step - loss: 0.5925 - accuracy: 0.7358 - val_loss: 0.5936 - val_accuracy: 0.7376\n",
      "Epoch 11/30\n",
      "176/176 [==============================] - 138s 786ms/step - loss: 0.5824 - accuracy: 0.7415 - val_loss: 0.6475 - val_accuracy: 0.7102\n",
      "Epoch 12/30\n",
      "176/176 [==============================] - 138s 782ms/step - loss: 0.5769 - accuracy: 0.7398 - val_loss: 0.6390 - val_accuracy: 0.7000\n",
      "Epoch 13/30\n",
      "176/176 [==============================] - 138s 784ms/step - loss: 0.5827 - accuracy: 0.7417 - val_loss: 0.6259 - val_accuracy: 0.7209\n",
      "Epoch 14/30\n",
      "176/176 [==============================] - 140s 797ms/step - loss: 0.5605 - accuracy: 0.7567 - val_loss: 0.6816 - val_accuracy: 0.6858\n",
      "Epoch 15/30\n",
      "176/176 [==============================] - 140s 795ms/step - loss: 0.5524 - accuracy: 0.7577 - val_loss: 0.5416 - val_accuracy: 0.7565\n",
      "Epoch 16/30\n",
      "176/176 [==============================] - 139s 789ms/step - loss: 0.5644 - accuracy: 0.7547 - val_loss: 0.5744 - val_accuracy: 0.7508\n",
      "Epoch 17/30\n",
      "176/176 [==============================] - 141s 802ms/step - loss: 0.5309 - accuracy: 0.7740 - val_loss: 0.5782 - val_accuracy: 0.7456\n",
      "Epoch 18/30\n",
      "176/176 [==============================] - 140s 795ms/step - loss: 0.5299 - accuracy: 0.7697 - val_loss: 0.5520 - val_accuracy: 0.7574\n",
      "Epoch 19/30\n",
      "176/176 [==============================] - 139s 792ms/step - loss: 0.5121 - accuracy: 0.7820 - val_loss: 0.5583 - val_accuracy: 0.7558\n",
      "Epoch 20/30\n",
      "176/176 [==============================] - 135s 766ms/step - loss: 0.5127 - accuracy: 0.7820 - val_loss: 0.5801 - val_accuracy: 0.7435\n"
     ]
    },
    {
     "output_type": "execute_result",
     "data": {
      "text/plain": [
       "<tensorflow.python.keras.callbacks.History at 0x20f8cd92e48>"
      ]
     },
     "metadata": {},
     "execution_count": 12
    }
   ],
   "source": [
    "model.fit(x=train_dataset,\n",
    "          epochs=30,  #### set repeat in training dataset\n",
    "          steps_per_epoch=len(train_gen),\n",
    "          validation_data=valid_dataset,\n",
    "          validation_steps=len(valid_gen), \n",
    "          callbacks=callbacks)"
   ]
  },
  {
   "cell_type": "code",
   "execution_count": 48,
   "metadata": {},
   "outputs": [],
   "source": [
    "# Test Dataset \n",
    "# Useful if you want to see images with predictions  \n",
    "\n",
    "#from PIL import Image\n",
    "#image_filenames = next(os.walk('MaskDataset/test'))[2]\n",
    "\n",
    "#results = {}\n",
    "#for image_name in image_filenames:\n",
    "#   img = Image.open('MaskDataset/test/'+image_name).convert('RGB')\n",
    "#   img = img.resize((img_w,img_h))\n",
    "#   img_array = np.array(img)\n",
    "#   img_array = np.expand_dims(img_array, 0) \n",
    "#   img_array = tf.cast(img_array, tf.float32) / 255.\n",
    "#   prediction = model.predict(img_array)\n",
    "#   img\n",
    "#   classes[np.argmax(prediction)]\n",
    "   \n"
   ]
  },
  {
   "cell_type": "code",
   "execution_count": 46,
   "metadata": {},
   "outputs": [],
   "source": [
    "#Creating CSV\n",
    "\n",
    "import os\n",
    "from datetime import datetime\n",
    "from PIL import Image\n",
    "\n",
    "def create_csv(results, results_dir='./'):\n",
    "\n",
    "    csv_fname = 'results_'\n",
    "    csv_fname += datetime.now().strftime('%b%d_%H-%M-%S') + '.csv'\n",
    "\n",
    "    with open(os.path.join(results_dir, csv_fname), 'w') as f:\n",
    "\n",
    "        f.write('Id,Category\\n')\n",
    "\n",
    "        for key, value in results.items():\n",
    "            f.write(key + ',' + str(value) + '\\n')\n",
    "\n",
    "\n",
    "image_filenames = next(os.walk('MaskDataset/test'))[2]\n",
    "\n",
    "results = {}\n",
    "for image_name in image_filenames:\n",
    "   img = Image.open('MaskDataset/test/'+image_name).convert('RGB')\n",
    "   img = img.resize((img_w,img_h))\n",
    "   img_array = np.array(img)\n",
    "   img_array = np.expand_dims(img_array, 0) \n",
    "   img_array = tf.cast(img_array, tf.float32) / 255.\n",
    "   prediction = model.predict(img_array)\n",
    "   results[image_name] = np.argmax(prediction)\n",
    "\n",
    "create_csv(results)            "
   ]
  },
  {
   "cell_type": "code",
   "execution_count": null,
   "metadata": {},
   "outputs": [],
   "source": []
  }
 ]
}