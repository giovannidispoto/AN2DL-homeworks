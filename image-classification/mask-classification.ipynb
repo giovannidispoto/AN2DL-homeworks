{
 "metadata": {
  "language_info": {
   "codemirror_mode": {
    "name": "ipython",
    "version": 3
   },
   "file_extension": ".py",
   "mimetype": "text/x-python",
   "name": "python",
   "nbconvert_exporter": "python",
   "pygments_lexer": "ipython3",
   "version": "3.7.9-final"
  },
  "orig_nbformat": 2,
  "kernelspec": {
   "name": "python3",
   "display_name": "Python 3.7.9 64-bit ('tf_env': conda)",
   "metadata": {
    "interpreter": {
     "hash": "07a1d00ae2162815ae6e2da7ddb78c532f34cdf0562699979b491324286053b0"
    }
   }
  }
 },
 "nbformat": 4,
 "nbformat_minor": 2,
 "cells": [
  {
   "source": [
    "# Mask Classification\n",
    "\n",
    "This Notebook contains a model trainable from scratch a model based on VGG16"
   ],
   "cell_type": "markdown",
   "metadata": {}
  },
  {
   "cell_type": "code",
   "execution_count": 1,
   "metadata": {},
   "outputs": [],
   "source": [
    "import os\n",
    "import numpy as np \n",
    "import tensorflow as tf \n",
    "import pandas\n",
    "\n",
    "SEED = 1234\n",
    "\n",
    "tf.random.set_seed(SEED)\n",
    "\n",
    "cwd = os.getcwd();"
   ]
  },
  {
   "cell_type": "code",
   "execution_count": 2,
   "metadata": {},
   "outputs": [],
   "source": [
    "from tensorflow.keras.preprocessing.image import ImageDataGenerator\n",
    "\n",
    "\n",
    "apply_data_augmentation = True\n",
    "\n",
    "if apply_data_augmentation: #if data augmentation is enabled, create the generator\n",
    "     train_data_gen = ImageDataGenerator(rotation_range=10,\n",
    "                                        zoom_range=0.1,\n",
    "                                        horizontal_flip=True,\n",
    "                                        vertical_flip=True,\n",
    "                                        fill_mode='constant',\n",
    "                                        cval=0,\n",
    "                                        validation_split = 0.3,\n",
    "                                        rescale=1./255)\n",
    "else: #rescale only the image\n",
    "     train_data_gen = ImageDataGenerator(rescale = 1./255, validation_split = 0.3)                                       \n",
    "\n",
    "#rescale only on validation dataset and test dataset\n",
    "valid_data_gen = ImageDataGenerator(rescale = 1./255)\n",
    "\n",
    "test_data_gen = ImageDataGenerator(rescale = 1./255)\n"
   ]
  },
  {
   "cell_type": "code",
   "execution_count": 3,
   "metadata": {},
   "outputs": [],
   "source": [
    "#width and height of imgaes\n",
    "img_w = 256\n",
    "img_h = 256\n",
    "\n",
    "num_classes = 3\n",
    "\n",
    "classes = [\"NO PERSON\", \"ALL THE PEOPLE\", \"SOMEONE\"]\n",
    "\n",
    "bs = 32 #batch size"
   ]
  },
  {
   "cell_type": "code",
   "execution_count": 4,
   "metadata": {},
   "outputs": [
    {
     "output_type": "stream",
     "name": "stdout",
     "text": [
      "Found 5614 validated image filenames belonging to 3 classes.\n",
      "Found 5614 validated image filenames belonging to 3 classes.\n"
     ]
    }
   ],
   "source": [
    "from IPython.core.interactiveshell import InteractiveShell\n",
    "InteractiveShell.ast_node_interactivity = \"all\"\n",
    "\n",
    "#Loading data \n",
    "import json \n",
    "\n",
    "#setting dirs\n",
    "dataset_dir = os.path.join(cwd, \"MaskDataset\")\n",
    "training_dir = os.path.join(dataset_dir, \"training\")\n",
    "validation_dir = training_dir\n",
    "\n",
    "\n",
    "#reading json file\n",
    "with open(os.path.join(dataset_dir,\"train_gt.json\")) as f:\n",
    "  dic = json.load(f)\n",
    "\n",
    "\n",
    "dataframe = pandas.DataFrame(dic.items())\n",
    "\n",
    "dataframe.rename(columns = {0:'filename', 1:'class'}, inplace = True)\n",
    "\n",
    "dataframe[\"class\"] = dataframe[\"class\"].astype(str)\n",
    "\n",
    "train_gen = train_data_gen.flow_from_dataframe(dataframe,\n",
    "                                               training_dir,\n",
    "                                               batch_size=bs,\n",
    "                                               target_size=(img_h, img_w),\n",
    "                                               class_mode='categorical',\n",
    "                                               shuffle=True,\n",
    "                                               seed=SEED)\n",
    "\n",
    "valid_gen = valid_data_gen.flow_from_dataframe(dataframe,\n",
    "                                               training_dir,\n",
    "                                               batch_size=bs,\n",
    "                                               target_size=(img_h, img_w),\n",
    "                                               class_mode='categorical',\n",
    "                                               shuffle=True,\n",
    "                                               seed=SEED)                                                                                                                                                                                     "
   ]
  },
  {
   "cell_type": "code",
   "execution_count": 5,
   "metadata": {},
   "outputs": [],
   "source": [
    "#Creating Dataset objects\n",
    "\n",
    "\n",
    "train_dataset = tf.data.Dataset.from_generator(lambda: train_gen,\n",
    "                                               output_types=(tf.float32, tf.float32),\n",
    "                                               output_shapes=([None, img_h, img_w, 3], [None, num_classes]))\n",
    "\n",
    "train_dataset = train_dataset.repeat()\n",
    "\n",
    "\n",
    "valid_dataset = tf.data.Dataset.from_generator(lambda: valid_gen,\n",
    "                                               output_types=(tf.float32, tf.float32),\n",
    "                                               output_shapes=([None, img_h, img_w, 3], [None, num_classes]))\n",
    "\n",
    "valid_dataset = valid_dataset.repeat()     \n"
   ]
  },
  {
   "cell_type": "code",
   "execution_count": 7,
   "metadata": {},
   "outputs": [],
   "source": [
    "# Architecture: Features extraction -> Classifier\n",
    "\n",
    "model = tf.keras.Sequential()\n",
    "\n",
    "transfer_learning = True\n",
    "\n",
    "if transfer_learning:\n",
    "    # Load VGG16 Model\n",
    "\n",
    "    vgg = tf.keras.applications.VGG16(weights='imagenet', include_top=False, input_shape=(img_h, img_w, 3))\n",
    "    # Create Model\n",
    "    # ------------\n",
    "\n",
    "    finetuning = True\n",
    "\n",
    "    if finetuning:\n",
    "        freeze_until = 15 # layer from which we want to fine-tune\n",
    "        \n",
    "        for layer in vgg.layers[:freeze_until]:\n",
    "            layer.trainable = False\n",
    "    else:\n",
    "        vgg.trainable = False\n",
    "        \n",
    "    model.add(vgg)\n",
    "\n",
    "else:\n",
    "    #Creating a CNN from scratch\n",
    "    start_f = 8\n",
    "    depth = 5\n",
    "\n",
    "    \n",
    "\n",
    "    # Features extraction\n",
    "    for i in range(depth):\n",
    "\n",
    "        if i == 0:\n",
    "            input_shape = [img_h, img_w, 3]\n",
    "        else:\n",
    "            input_shape=[None]\n",
    "\n",
    "        # Conv block: Conv2D -> Activation -> Pooling\n",
    "        model.add(tf.keras.layers.Conv2D(filters=start_f, \n",
    "                                        kernel_size=(3, 3),\n",
    "                                        strides=(1, 1),\n",
    "                                        padding='same',\n",
    "                                        input_shape=input_shape))\n",
    "        model.add(tf.keras.layers.ReLU())\n",
    "        model.add(tf.keras.layers.MaxPool2D(pool_size=(2, 2)))\n",
    "\n",
    "        start_f *= 2\n",
    "    \n",
    "# Classifier\n",
    "model.add(tf.keras.layers.Flatten())\n",
    "model.add(tf.keras.layers.Dense(units=512, activation='relu'))\n",
    "if(transfer_learning == False):\n",
    "    model.add(tf.keras.layers.Dropout(0.5))\n",
    "model.add(tf.keras.layers.Dense(units=num_classes, activation='softmax'))"
   ]
  },
  {
   "cell_type": "code",
   "execution_count": 8,
   "metadata": {},
   "outputs": [
    {
     "output_type": "stream",
     "name": "stdout",
     "text": [
      "Model: \"sequential\"\n_________________________________________________________________\nLayer (type)                 Output Shape              Param #   \n=================================================================\nvgg16 (Functional)           (None, 8, 8, 512)         14714688  \n_________________________________________________________________\nflatten (Flatten)            (None, 32768)             0         \n_________________________________________________________________\ndense (Dense)                (None, 512)               16777728  \n_________________________________________________________________\ndense_1 (Dense)              (None, 3)                 1539      \n=================================================================\nTotal params: 31,493,955\nTrainable params: 23,858,691\nNon-trainable params: 7,635,264\n_________________________________________________________________\n"
     ]
    }
   ],
   "source": [
    "model.summary()"
   ]
  },
  {
   "cell_type": "code",
   "execution_count": 9,
   "metadata": {},
   "outputs": [
    {
     "output_type": "execute_result",
     "data": {
      "text/plain": [
       "<tensorflow.python.training.tracking.util.CheckpointLoadStatus at 0x220295d6388>"
      ]
     },
     "metadata": {},
     "execution_count": 9
    }
   ],
   "source": [
    "# Load the model\n",
    "load_model = True\n",
    "if load_model:\n",
    "    latest = tf.train.latest_checkpoint(os.path.join(\"C:\\\\Users\\\\Giovanni\\\\Desktop\\\\Università\\\\Magistrale\\\\ANN\\\\AN2DL-homeworks\\\\image-classification\\\\classification_experiments\\\\CNN_Nov12_19-13-43\\\\ckpts\", \"\"))\n",
    "    model.load_weights(latest, by_name=False)"
   ]
  },
  {
   "cell_type": "code",
   "execution_count": 10,
   "metadata": {},
   "outputs": [],
   "source": [
    "# Optimization params\n",
    "# -------------------\n",
    "\n",
    "# Loss\n",
    "loss = tf.keras.losses.CategoricalCrossentropy()\n",
    "\n",
    "# learning rate\n",
    "lr = 1e-4\n",
    "optimizer = tf.keras.optimizers.Adam(learning_rate=lr)\n",
    "# -------------------\n",
    "\n",
    "# Validation metrics\n",
    "# ------------------\n",
    "\n",
    "metrics = ['accuracy']\n",
    "# ------------------\n",
    "\n",
    "# Compile Model\n",
    "model.compile(optimizer=optimizer, loss=loss, metrics=metrics)"
   ]
  },
  {
   "cell_type": "code",
   "execution_count": 9,
   "metadata": {},
   "outputs": [],
   "source": [
    "from datetime import datetime\n",
    "\n",
    "\n",
    "\n",
    "exps_dir = os.path.join(cwd, 'classification_experiments')\n",
    "if not os.path.exists(exps_dir):\n",
    "    os.makedirs(exps_dir)\n",
    "\n",
    "now = datetime.now().strftime('%b%d_%H-%M-%S')\n",
    "\n",
    "model_name = 'CNN'\n",
    "\n",
    "exp_dir = os.path.join(exps_dir, model_name + '_' + str(now))\n",
    "if not os.path.exists(exp_dir):\n",
    "    os.makedirs(exp_dir)\n",
    "    \n",
    "callbacks = []\n",
    "\n",
    "# Model checkpoint\n",
    "# ----------------\n",
    "ckpt_dir = os.path.join(exp_dir, 'ckpts')\n",
    "if not os.path.exists(ckpt_dir):\n",
    "    os.makedirs(ckpt_dir)\n",
    "\n",
    "ckpt_callback = tf.keras.callbacks.ModelCheckpoint(filepath=os.path.join(ckpt_dir, 'cp_{epoch:02d}.ckpt'), \n",
    "                                                   save_weights_only=True)  # False to save the model directly\n",
    "callbacks.append(ckpt_callback)\n",
    "\n",
    "# Visualize Learning on Tensorboard\n",
    "# ---------------------------------\n",
    "tb_dir = os.path.join(exp_dir, 'tb_logs')\n",
    "if not os.path.exists(tb_dir):\n",
    "    os.makedirs(tb_dir)\n",
    "    \n",
    "# By default shows losses and metrics for both training and validation\n",
    "tb_callback = tf.keras.callbacks.TensorBoard(log_dir=tb_dir,\n",
    "                                             profile_batch=0,\n",
    "                                             histogram_freq=1)  # if 1 shows weights histograms\n",
    "callbacks.append(tb_callback)\n",
    "\n",
    "# Early Stopping\n",
    "# --------------\n",
    "early_stop = True\n",
    "if early_stop:\n",
    "    es_callback = tf.keras.callbacks.EarlyStopping(monitor='val_loss', patience=5,restore_best_weights=True )\n",
    "    callbacks.append(es_callback)"
   ]
  },
  {
   "cell_type": "code",
   "execution_count": 10,
   "metadata": {},
   "outputs": [
    {
     "output_type": "stream",
     "name": "stdout",
     "text": [
      "Epoch 1/15\n",
      "176/176 [==============================] - 364s 2s/step - loss: 0.9447 - accuracy: 0.5319 - val_loss: 0.7443 - val_accuracy: 0.6493\n",
      "Epoch 2/15\n",
      "176/176 [==============================] - 408s 2s/step - loss: 0.7079 - accuracy: 0.6632 - val_loss: 0.5829 - val_accuracy: 0.7394\n",
      "Epoch 3/15\n",
      "176/176 [==============================] - 400s 2s/step - loss: 0.6274 - accuracy: 0.7029 - val_loss: 0.5291 - val_accuracy: 0.7565\n",
      "Epoch 4/15\n",
      "176/176 [==============================] - 424s 2s/step - loss: 0.5687 - accuracy: 0.7332 - val_loss: 0.4686 - val_accuracy: 0.7870\n",
      "Epoch 5/15\n",
      "176/176 [==============================] - 408s 2s/step - loss: 0.5140 - accuracy: 0.7574 - val_loss: 0.4606 - val_accuracy: 0.7884\n",
      "Epoch 6/15\n",
      "176/176 [==============================] - 460s 3s/step - loss: 0.4678 - accuracy: 0.7934 - val_loss: 0.3833 - val_accuracy: 0.8351\n",
      "Epoch 7/15\n",
      "176/176 [==============================] - 396s 2s/step - loss: 0.4408 - accuracy: 0.8035 - val_loss: 0.3399 - val_accuracy: 0.8623\n",
      "Epoch 8/15\n",
      "176/176 [==============================] - 500s 3s/step - loss: 0.4074 - accuracy: 0.8261 - val_loss: 0.3510 - val_accuracy: 0.8429\n",
      "Epoch 9/15\n",
      "176/176 [==============================] - 407s 2s/step - loss: 0.3693 - accuracy: 0.8390 - val_loss: 0.3146 - val_accuracy: 0.8709\n",
      "Epoch 10/15\n",
      "176/176 [==============================] - 444s 3s/step - loss: 0.3593 - accuracy: 0.8475 - val_loss: 0.3037 - val_accuracy: 0.8694\n",
      "Epoch 11/15\n",
      "176/176 [==============================] - 477s 3s/step - loss: 0.3304 - accuracy: 0.8600 - val_loss: 0.2495 - val_accuracy: 0.9038\n",
      "Epoch 12/15\n",
      "176/176 [==============================] - 409s 2s/step - loss: 0.3281 - accuracy: 0.8659 - val_loss: 0.3105 - val_accuracy: 0.8650\n",
      "Epoch 13/15\n",
      "176/176 [==============================] - 475s 3s/step - loss: 0.2799 - accuracy: 0.8837 - val_loss: 0.2185 - val_accuracy: 0.9145\n",
      "Epoch 14/15\n",
      "176/176 [==============================] - 422s 2s/step - loss: 0.2881 - accuracy: 0.8778 - val_loss: 0.2750 - val_accuracy: 0.8840\n",
      "Epoch 15/15\n",
      "176/176 [==============================] - 573s 3s/step - loss: 0.2596 - accuracy: 0.8970 - val_loss: 0.2052 - val_accuracy: 0.9257\n"
     ]
    },
    {
     "output_type": "execute_result",
     "data": {
      "text/plain": [
       "<tensorflow.python.keras.callbacks.History at 0x26d45617888>"
      ]
     },
     "metadata": {},
     "execution_count": 10
    }
   ],
   "source": [
    "model.fit(x=train_dataset,\n",
    "          epochs=15,  #### set repeat in training dataset\n",
    "          steps_per_epoch=len(train_gen),\n",
    "          validation_data=valid_dataset,\n",
    "          validation_steps=len(valid_gen), \n",
    "          callbacks=callbacks)"
   ]
  },
  {
   "cell_type": "code",
   "execution_count": 16,
   "metadata": {},
   "outputs": [],
   "source": [
    "#check that is all ok\n",
    "\n",
    "#iterator = iter(valid_dataset)\n",
    "\n",
    "\n",
    "\n",
    "#from PIL import Image\n",
    "\n",
    "#for i in range(10):\n",
    "#    sample, target = next(iterator)\n",
    "#    sample_ = sample[0, ...]\n",
    "\n",
    "#    img = Image.fromarray(np.uint8(np.array(sample_)*255.))\n",
    "#    img = img.resize([img_w,img_h])\n",
    "#    img_array = np.array(img)\n",
    "#    img_array = np.expand_dims(img_array, 0) \n",
    "#    img_array = tf.cast(img_array, tf.float32) / 255.\n",
    "#    prediction = model.predict(img_array)\n",
    "#    img\n",
    "#    print(\"Predicted:\"+classes[np.argmax(prediction)])\n",
    "#    print(\"Original:\" +classes[tf.argmax(target[0], axis=0)])\n",
    "\n",
    "#sample_\n",
    "#class_names[tf.argmax(target[0], axis=0)]"
   ]
  },
  {
   "cell_type": "code",
   "execution_count": 7,
   "metadata": {},
   "outputs": [],
   "source": [
    "# Test Dataset \n",
    "# Useful if you want to see images with predictions  \n",
    "\n",
    "#from PIL import Image\n",
    "#image_filenames = next(os.walk('MaskDataset/test'))[2]\n",
    "\n",
    "#results = {}\n",
    "#for image_name in image_filenames:\n",
    "#   img = Image.open('MaskDataset/test/'+image_name).convert('RGB')\n",
    "#   img = img.resize((img_w,img_h))\n",
    "#   img_array = np.array(img)\n",
    "#   img_array = np.expand_dims(img_array, 0) \n",
    "#   img_array = tf.cast(img_array, tf.float32) / 255.\n",
    "#   prediction = model.predict(img_array)\n",
    "#   img\n",
    "#   classes[np.argmax(prediction)]\n",
    "   \n"
   ]
  },
  {
   "cell_type": "code",
   "execution_count": 11,
   "metadata": {},
   "outputs": [],
   "source": [
    "#Creating CSV\n",
    "\n",
    "import os\n",
    "from datetime import datetime\n",
    "from PIL import Image\n",
    "\n",
    "def create_csv(results, results_dir='./'):\n",
    "\n",
    "    csv_fname = 'results_'\n",
    "    csv_fname += datetime.now().strftime('%b%d_%H-%M-%S') + '.csv'\n",
    "\n",
    "    with open(os.path.join(results_dir, csv_fname), 'w') as f:\n",
    "\n",
    "        f.write('Id,Category\\n')\n",
    "\n",
    "        for key, value in results.items():\n",
    "            f.write(key + ',' + str(value) + '\\n')\n",
    "\n",
    "\n",
    "image_filenames = next(os.walk('MaskDataset/test'))[2]\n",
    "\n",
    "results = {}\n",
    "for image_name in image_filenames:\n",
    "   img = Image.open('MaskDataset/test/'+image_name).convert('RGB')\n",
    "   img = img.resize((img_w,img_h))\n",
    "   img_array = np.array(img)\n",
    "   img_array = np.expand_dims(img_array, 0) \n",
    "   img_array = tf.cast(img_array, tf.float32) / 255.\n",
    "   prediction = model.predict(img_array)\n",
    "   results[image_name] = np.argmax(prediction)\n",
    "\n",
    "create_csv(results)            "
   ]
  },
  {
   "cell_type": "code",
   "execution_count": null,
   "metadata": {},
   "outputs": [],
   "source": []
  }
 ]
}