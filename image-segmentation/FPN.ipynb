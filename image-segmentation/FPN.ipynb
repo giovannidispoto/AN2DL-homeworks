{
  "nbformat": 4,
  "nbformat_minor": 0,
  "metadata": {
    "accelerator": "GPU",
    "colab": {
      "name": "FPN.ipynb",
      "provenance": [],
      "collapsed_sections": [
        "qSKRvJovUa2Y",
        "cvbulE1BUiqe",
        "mH3lzlVqnFI2",
        "Pbs3mLY7VjUN",
        "d8MGYT3yhcSz"
      ],
      "toc_visible": true
    },
    "kernelspec": {
      "display_name": "Python 3",
      "language": "python",
      "name": "python3"
    },
    "language_info": {
      "codemirror_mode": {
        "name": "ipython",
        "version": 3
      },
      "file_extension": ".py",
      "mimetype": "text/x-python",
      "name": "python",
      "nbconvert_exporter": "python",
      "pygments_lexer": "ipython3",
      "version": "3.7.7"
    }
  },
  "cells": [
    {
      "cell_type": "markdown",
      "metadata": {
        "id": "qSKRvJovUa2Y"
      },
      "source": [
        "## import"
      ]
    },
    {
      "cell_type": "code",
      "metadata": {
        "id": "I5FnwOggnFIl"
      },
      "source": [
        "from IPython.core.interactiveshell import InteractiveShell\n",
        "InteractiveShell.ast_node_interactivity = \"all\""
      ],
      "execution_count": null,
      "outputs": []
    },
    {
      "cell_type": "code",
      "metadata": {
        "id": "tOBDSA9BnFIx"
      },
      "source": [
        "import os\n",
        "\n",
        "# os.environ[\"CUDA_VISIBLE_DEVICES\"]=\"-1\" \n",
        "import tensorflow as tf\n",
        "import numpy as np\n",
        "\n",
        "# Set the seed for random operations. \n",
        "# This let our experiments to be reproducible. \n",
        "SEED = 1234\n",
        "tf.random.set_seed(SEED)"
      ],
      "execution_count": null,
      "outputs": []
    },
    {
      "cell_type": "code",
      "metadata": {
        "id": "bns18Nm7oORk"
      },
      "source": [
        "cwd = os.getcwd()"
      ],
      "execution_count": null,
      "outputs": []
    },
    {
      "cell_type": "code",
      "metadata": {
        "id": "Z8bhsWQnnU-i",
        "colab": {
          "base_uri": "https://localhost:8080/"
        },
        "outputId": "52d695a4-296d-4d4f-d77a-65fc45d1bb18"
      },
      "source": [
        "from google.colab import drive\n",
        "drive.mount('/content/drive')"
      ],
      "execution_count": null,
      "outputs": [
        {
          "output_type": "stream",
          "text": [
            "Mounted at /content/drive\n"
          ],
          "name": "stdout"
        }
      ]
    },
    {
      "cell_type": "markdown",
      "metadata": {
        "id": "cvbulE1BUiqe"
      },
      "source": [
        "## unzip and split"
      ]
    },
    {
      "cell_type": "code",
      "metadata": {
        "id": "Uw-loJ73n0eS"
      },
      "source": [
        "!unzip /content/drive/MyDrive/image-segmentation/dataset/BPRW.zip"
      ],
      "execution_count": null,
      "outputs": []
    },
    {
      "cell_type": "code",
      "metadata": {
        "id": "a5PaoyuKCD6U"
      },
      "source": [
        "#!rm -r /content/__MACOSX\r\n",
        "#!mv /content/BPRW-fake /content/BPRW\r\n",
        "#!rm -r /content/BPRW\r\n",
        "#!rm -r /content/Development_Dataset_Sub\r\n",
        "!rm -r /content/BPRW/Training/Splits"
      ],
      "execution_count": null,
      "outputs": []
    },
    {
      "cell_type": "code",
      "metadata": {
        "id": "qe5EJrJYCJ4t"
      },
      "source": [
        "def filter(file_list, Mais=True, Haricot=True, Bipbip=True, Pead=True, Roseau=True, Weedelec=True):\r\n",
        "  file_list = [k for k in file_list if not ('.' in k)] # remove hidden files\r\n",
        "  # WARNING if any files has '.' in the name it will be removed but this is not\r\n",
        "  #         the case for our dataset\r\n",
        "  if not Mais:\r\n",
        "    file_list = [k for k in file_list if not ('mais' in k)]\r\n",
        "  if not Haricot:\r\n",
        "    file_list = [k for k in file_list if not ('haricot' in k)]\r\n",
        "  if not Bipbip:\r\n",
        "    file_list = [k for k in file_list if not ('Bipbip' in k)]\r\n",
        "  if not Pead:\r\n",
        "    file_list = [k for k in file_list if not ('Pead' in k)]\r\n",
        "  if not Roseau:\r\n",
        "    file_list = [k for k in file_list if not ('Roseau' in k)]\r\n",
        "  if not Weedelec:\r\n",
        "    file_list = [k for k in file_list if not ('Weedelec' in k)]\r\n",
        "  \r\n",
        "  return file_list"
      ],
      "execution_count": null,
      "outputs": []
    },
    {
      "cell_type": "code",
      "metadata": {
        "id": "ktU0frN_CVzq"
      },
      "source": [
        "# create split files\r\n",
        "import re\r\n",
        "import math\r\n",
        "import random\r\n",
        "\r\n",
        "os.chdir('/content/BPRW/Training')\r\n",
        "#os.chdir(os.path.join(os.getcwd(), 'Haricot')) # change to change dataset\r\n",
        "cwd = os.getcwd()\r\n",
        "dir = os.path.join(cwd, 'Images')\r\n",
        "file_list = os.listdir(dir)\r\n",
        "\r\n",
        "for i, file_name in enumerate(file_list):\r\n",
        "  file_list[i] = re.sub('.jpg', '', file_name)\r\n",
        "\r\n",
        "file_list = filter(file_list, Mais=True, Haricot=True, Bipbip=True, Pead=False, Roseau=False, Weedelec=False)\r\n",
        "\r\n",
        "random.seed(SEED)\r\n",
        "random.shuffle(file_list)\r\n",
        "\r\n",
        "valid_cut = .2\r\n",
        "valid_files = file_list[math.floor(len(file_list)*(1-valid_cut)):len(file_list)]\r\n",
        "train_files = file_list[0:math.floor(len(file_list)*(1-valid_cut))]\r\n",
        "\r\n",
        "split_dir = os.path.join(cwd, 'Splits')\r\n",
        "if not os.path.exists(split_dir):\r\n",
        "  os.makedirs(split_dir)\r\n",
        "\r\n",
        "with open(\"Splits/training.txt\",\"w+\") as traintxt:\r\n",
        "  traintxt.writelines([\"%s\\n\" % el  for el in train_files])\r\n",
        "\r\n",
        "with open(\"Splits/validation.txt\",\"w+\") as validtxt:\r\n",
        "  validtxt.writelines([\"%s\\n\" % el  for el in valid_files])\r\n",
        "\r\n",
        "os.chdir('/content')\r\n",
        "cwd = os.getcwd()"
      ],
      "execution_count": null,
      "outputs": []
    },
    {
      "cell_type": "markdown",
      "metadata": {
        "id": "mH3lzlVqnFI2"
      },
      "source": [
        "## prepare dataset"
      ]
    },
    {
      "cell_type": "code",
      "metadata": {
        "id": "4N88wG50nFI3"
      },
      "source": [
        "# ImageDataGenerator\n",
        "# ------------------\n",
        "\n",
        "from tensorflow.keras.preprocessing.image import ImageDataGenerator\n",
        "\n",
        "apply_data_augmentation = True\n",
        "\n",
        "# Create training ImageDataGenerator object\n",
        "# We need two different generators for images and corresponding masks\n",
        "if apply_data_augmentation:\n",
        "    img_data_gen = ImageDataGenerator(rotation_range=10,\n",
        "                                      width_shift_range=10,\n",
        "                                      height_shift_range=10,\n",
        "                                      zoom_range=0.3,\n",
        "                                      horizontal_flip=True,\n",
        "                                      vertical_flip=True,\n",
        "                                      fill_mode='reflect')\n",
        "    mask_data_gen = ImageDataGenerator(rotation_range=10,\n",
        "                                       width_shift_range=10,\n",
        "                                       height_shift_range=10,\n",
        "                                       zoom_range=0.3,\n",
        "                                       horizontal_flip=True,\n",
        "                                       vertical_flip=True,\n",
        "                                       fill_mode='reflect')"
      ],
      "execution_count": null,
      "outputs": []
    },
    {
      "cell_type": "code",
      "metadata": {
        "id": "hsieZk4aKhm6"
      },
      "source": [
        "from PIL import Image\n",
        "\n",
        "# img_h = 224\n",
        "# img_w = 224\n",
        "\n",
        "img_h = 384\n",
        "img_w = 384\n",
        "\n",
        "mask_h = int(3456/2)\n",
        "mask_w = int(5184/2)\n",
        "\n",
        "class CustomDataset(tf.keras.utils.Sequence):\n",
        "\n",
        "  \"\"\"\n",
        "    CustomDataset inheriting from tf.keras.utils.Sequence.\n",
        "\n",
        "    3 main methods:\n",
        "      - __init__: save dataset params like directory, filenames..\n",
        "      - __len__: return the total number of samples in the dataset\n",
        "      - __getitem__: return a sample from the dataset\n",
        "\n",
        "    Note: \n",
        "      - the custom dataset return a single sample from the dataset. Then, we use \n",
        "        a tf.data.Dataset object to group samples into batches.\n",
        "      - in this case we have a different structure of the dataset in memory. \n",
        "        We have all the images in the same folder and the training and validation splits\n",
        "        are defined in text files.\n",
        "\n",
        "  \"\"\"\n",
        "\n",
        "  def __init__(\n",
        "    self, dataset_dir,\n",
        "    which_subset,\n",
        "    img_generator=None,\n",
        "    mask_generator=None, \n",
        "    preprocessing_function=None,\n",
        "    out_shape=[224,224] \n",
        "  ):\n",
        "    if which_subset == 'training':\n",
        "      subset_file = os.path.join(dataset_dir, 'Splits', 'training.txt')\n",
        "    elif which_subset == 'validation':\n",
        "      subset_file = os.path.join(dataset_dir, 'Splits', 'validation.txt')\n",
        "    \n",
        "    with open(subset_file, 'r') as f:\n",
        "      lines = f.readlines()\n",
        "    \n",
        "    subset_filenames = []\n",
        "    for line in lines:\n",
        "      subset_filenames.append(line.strip()) \n",
        "\n",
        "    self.which_subset = which_subset\n",
        "    self.dataset_dir = dataset_dir\n",
        "    self.subset_filenames = subset_filenames\n",
        "    self.img_generator = img_generator\n",
        "    self.mask_generator = mask_generator\n",
        "    self.preprocessing_function = preprocessing_function\n",
        "    self.out_shape = out_shape\n",
        "\n",
        "  def __len__(self):\n",
        "    return len(self.subset_filenames)\n",
        "\n",
        "  def __getitem__(self, index):\n",
        "    # Read Image\n",
        "    curr_filename = self.subset_filenames[index]\n",
        "    img = Image.open(os.path.join(self.dataset_dir, 'Images/', curr_filename + '.jpg'))\n",
        "    mask = Image.open(os.path.join(self.dataset_dir, 'Masks/', curr_filename + '.png'))\n",
        "\n",
        "\n",
        "    # Resize image and mask\n",
        "    if self.which_subset == 'training':\n",
        "      img = img.resize(self.out_shape)\n",
        "      mask = mask.resize(self.out_shape, resample=Image.NEAREST)\n",
        "\n",
        "    # Used only on dataset different from Bipbip\n",
        "    if self.which_subset == 'validation':\n",
        "      img = img.resize((mask_w, mask_h))\n",
        "      mask = mask.resize((mask_w, mask_h), resample=Image.NEAREST)\n",
        "    #else:\n",
        "     # img = img.resize((1024,768))  \n",
        "     # mask = img.resize((1024,768))  \n",
        "    \n",
        "    img_arr = np.array(img)\n",
        "    mask_arr = np.array(mask)\n",
        "\n",
        "    new_mask_arr = np.zeros(mask_arr.shape[:2], dtype=mask_arr.dtype)\n",
        "\n",
        "    # Use RGB dictionary in 'RGBtoTarget.txt' to convert RGB to target\n",
        "    new_mask_arr[np.where(np.all(mask_arr == [0, 0, 0], axis=-1))] = 0\n",
        "    new_mask_arr[np.where(np.all(mask_arr == [254, 124, 18], axis=-1))] = 0 #previous first element 216\n",
        "    new_mask_arr[np.where(np.all(mask_arr == [255, 255, 255], axis=-1))] = 1\n",
        "    new_mask_arr[np.where(np.all(mask_arr == [216, 67, 82], axis=-1))] = 2\n",
        "\n",
        "    mask_arr = new_mask_arr\n",
        "\n",
        "    # in this dataset 255 mask label is assigned to an additional class, which corresponds \n",
        "    # to the contours of the objects. We remove it for simplicity.\n",
        "    mask_arr[mask_arr == 255] = 0  \n",
        "\n",
        "    mask_arr = np.expand_dims(mask_arr, -1)\n",
        "\n",
        "    if self.which_subset == 'training':\n",
        "      if self.img_generator is not None and self.mask_generator is not None:\n",
        "        # Perform data augmentation\n",
        "        # We can get a random transformation from the ImageDataGenerator using get_random_transform\n",
        "        # and we can apply it to the image using apply_transform\n",
        "        img_t = self.img_generator.get_random_transform(img_arr.shape, seed=SEED)\n",
        "        mask_t = self.mask_generator.get_random_transform(mask_arr.shape, seed=SEED)\n",
        "        img_arr = self.img_generator.apply_transform(img_arr, img_t)\n",
        "        # ImageDataGenerator use bilinear interpolation for augmenting the images.\n",
        "        # Thus, when applied to the masks it will output 'interpolated classes', which\n",
        "        # is an unwanted behaviour. As a trick, we can transform each class mask \n",
        "        # separately and then we can cast to integer values (as in the binary segmentation notebook).\n",
        "        # Finally, we merge the augmented binary masks to obtain the final segmentation mask.\n",
        "        out_mask = np.zeros_like(mask_arr)\n",
        "        for c in np.unique(mask_arr):\n",
        "          if c > 0:\n",
        "            curr_class_arr = np.float32(mask_arr == c)\n",
        "            curr_class_arr = self.mask_generator.apply_transform(curr_class_arr, mask_t)\n",
        "            # from [0, 1] to {0, 1}\n",
        "            curr_class_arr = np.uint8(curr_class_arr)\n",
        "            # recover original class\n",
        "            curr_class_arr = curr_class_arr * c \n",
        "            out_mask += curr_class_arr\n",
        "    else:\n",
        "      out_mask = mask_arr\n",
        "    \n",
        "    if self.preprocessing_function is not None:\n",
        "        img_arr = self.preprocessing_function(img_arr)\n",
        "\n",
        "    return img_arr, np.float32(out_mask)"
      ],
      "execution_count": null,
      "outputs": []
    },
    {
      "cell_type": "code",
      "metadata": {
        "colab": {
          "base_uri": "https://localhost:8080/",
          "height": 35
        },
        "id": "zQVFXpS1qvGb",
        "outputId": "ce2f3ac7-f85e-4016-c88d-2f75de8c5444"
      },
      "source": [
        "os.path.join(cwd, \"Development_Dataset_Sub\")"
      ],
      "execution_count": null,
      "outputs": [
        {
          "output_type": "execute_result",
          "data": {
            "application/vnd.google.colaboratory.intrinsic+json": {
              "type": "string"
            },
            "text/plain": [
              "'/content/Development_Dataset_Sub'"
            ]
          },
          "metadata": {
            "tags": []
          },
          "execution_count": 342
        }
      ]
    },
    {
      "cell_type": "code",
      "metadata": {
        "colab": {
          "base_uri": "https://localhost:8080/"
        },
        "id": "tirNyDWqHmaY",
        "outputId": "170d8e42-268b-4249-cbc5-41d54537a660"
      },
      "source": [
        "type(img_data_gen)"
      ],
      "execution_count": null,
      "outputs": [
        {
          "output_type": "execute_result",
          "data": {
            "text/plain": [
              "tensorflow.python.keras.preprocessing.image.ImageDataGenerator"
            ]
          },
          "metadata": {
            "tags": []
          },
          "execution_count": 376
        }
      ]
    },
    {
      "cell_type": "code",
      "metadata": {
        "id": "TyrdiIh_PWjB"
      },
      "source": [
        "from tensorflow.keras.applications.vgg16 import preprocess_input \n",
        "\n",
        "\n",
        "\n",
        "dataset = CustomDataset(\"/content/BPRW/Training\", 'training', \n",
        "                        img_generator=img_data_gen, mask_generator=mask_data_gen,\n",
        "                        preprocessing_function=None, out_shape=[img_h,img_w] ) #preprocess_input\n",
        "dataset_valid = CustomDataset('/content/BPRW/Training', 'validation', \n",
        "                              preprocessing_function=None, out_shape=[img_h,img_w] )\n"
      ],
      "execution_count": null,
      "outputs": []
    },
    {
      "cell_type": "code",
      "metadata": {
        "id": "usz5SKPeQrOE"
      },
      "source": [
        "\n",
        "train_dataset = tf.data.Dataset.from_generator(lambda: dataset,\n",
        "                                               output_types=(tf.float32, tf.float32),\n",
        "                                               output_shapes=([img_h, img_w, 3], [img_h, img_w, 1]))\n",
        "\n",
        "train_dataset = train_dataset.batch(8) # bs\n",
        "\n",
        "train_dataset = train_dataset.repeat()\n",
        "\n",
        "valid_dataset = tf.data.Dataset.from_generator(lambda: dataset_valid,\n",
        "                                               output_types=(tf.float32, tf.float32),\n",
        "                                               output_shapes=([int(mask_h), int(mask_w), 3], [int(mask_h), int(mask_w), 1]))\n",
        "valid_dataset = valid_dataset.batch(1)\n",
        "\n",
        "valid_dataset = valid_dataset.repeat()"
      ],
      "execution_count": null,
      "outputs": []
    },
    {
      "cell_type": "code",
      "metadata": {
        "colab": {
          "base_uri": "https://localhost:8080/"
        },
        "id": "JgpWhorBogdB",
        "outputId": "1e01c848-33fd-42a3-e7ba-8a6370d96a0f"
      },
      "source": [
        "!ls /content/VOCDataset"
      ],
      "execution_count": null,
      "outputs": [
        {
          "output_type": "stream",
          "text": [
            "ls: cannot access '/content/VOCDataset': No such file or directory\n"
          ],
          "name": "stdout"
        }
      ]
    },
    {
      "cell_type": "code",
      "metadata": {
        "id": "HOBabUbmnFJE"
      },
      "source": [
        "# Let's test data generator\n",
        "# -------------------------\n",
        "import time\n",
        "from matplotlib import cm\n",
        "import matplotlib.pyplot as plt\n",
        "\n",
        "%matplotlib inline\n",
        "\n",
        "\n",
        "# Assign a color to each class\n",
        "colors_dict = {}\n",
        "colors_dict[2] = [255, 0,0]\n",
        "colors_dict[1] = [255, 255, 255]  # foreground\n",
        "colors_dict[0] = [0, 0, 0]  # background\n",
        "iterator = iter(valid_dataset)"
      ],
      "execution_count": null,
      "outputs": []
    },
    {
      "cell_type": "markdown",
      "metadata": {
        "id": "Pbs3mLY7VjUN"
      },
      "source": [
        "## plot"
      ]
    },
    {
      "cell_type": "code",
      "metadata": {
        "colab": {
          "base_uri": "https://localhost:8080/",
          "height": 187
        },
        "id": "9eunbPwWqPnB",
        "outputId": "cde55294-331b-405f-af5a-1c95eac28f8a"
      },
      "source": [
        "fig, ax = plt.subplots(1, 2)\n",
        "\n",
        "augmented_img, target = next(iterator)\n",
        "augmented_img = augmented_img[0]   # First element\n",
        "augmented_img = augmented_img  # denormalize\n",
        "\n",
        "augmented_img.shape\n",
        "\n",
        "target = np.array(target[0, ..., 0])   # First element (squeezing channel dimension)\n",
        "\n",
        "print(np.unique(target))\n",
        "\n",
        "target_img = np.zeros([target.shape[0], target.shape[1], 3])\n",
        "\n",
        "target_img[np.where(target == 0)] = colors_dict[0]\n",
        "target_img[np.where(target == 1)] = colors_dict[1]\n",
        "target_img[np.where(target == 2)] = colors_dict[2]\n",
        "\n",
        "ax[0].imshow(np.uint8(augmented_img))\n",
        "ax[1].imshow(np.uint8(target_img))\n",
        "\n",
        "plt.show()"
      ],
      "execution_count": null,
      "outputs": [
        {
          "output_type": "execute_result",
          "data": {
            "text/plain": [
              "TensorShape([1728, 2592, 3])"
            ]
          },
          "metadata": {
            "tags": []
          },
          "execution_count": 348
        },
        {
          "output_type": "stream",
          "text": [
            "[0. 1. 2.]\n"
          ],
          "name": "stdout"
        },
        {
          "output_type": "execute_result",
          "data": {
            "text/plain": [
              "<matplotlib.image.AxesImage at 0x7fb50fcd6f98>"
            ]
          },
          "metadata": {
            "tags": []
          },
          "execution_count": 348
        },
        {
          "output_type": "execute_result",
          "data": {
            "text/plain": [
              "<matplotlib.image.AxesImage at 0x7fb505459f98>"
            ]
          },
          "metadata": {
            "tags": []
          },
          "execution_count": 348
        },
        {
          "output_type": "display_data",
          "data": {
            "image/png": "[encoded data removed]",
            "text/plain": [
              "<Figure size 432x288 with 2 Axes>"
            ]
          },
          "metadata": {
            "tags": [],
            "needs_background": "light"
          }
        }
      ]
    },
    {
      "cell_type": "markdown",
      "metadata": {
        "id": "JA1TGlOMnFJM"
      },
      "source": [
        "## Convolutional Neural Network (CNN)"
      ]
    },
    {
      "cell_type": "markdown",
      "metadata": {
        "id": "d8MGYT3yhcSz"
      },
      "source": [
        "### Blocks"
      ]
    },
    {
      "cell_type": "code",
      "metadata": {
        "id": "e162IZRNhZBn"
      },
      "source": [
        "def Conv2dBn(\n",
        "        filters,\n",
        "        kernel_size,\n",
        "        strides=(1, 1),\n",
        "        padding='valid',\n",
        "        data_format=None,\n",
        "        dilation_rate=(1, 1),\n",
        "        activation=None,\n",
        "        kernel_initializer='glorot_uniform',\n",
        "        bias_initializer='zeros',\n",
        "        kernel_regularizer=None,\n",
        "        bias_regularizer=None,\n",
        "        activity_regularizer=None,\n",
        "        kernel_constraint=None,\n",
        "        bias_constraint=None,\n",
        "        use_batchnorm=False,\n",
        "        **kwargs\n",
        "):\n",
        "    \"\"\"Extension of Conv2D layer with batchnorm\"\"\"\n",
        "\n",
        "    conv_name, act_name, bn_name = None, None, None\n",
        "    block_name = kwargs.pop('name', None)\n",
        "    #backend, layers, models, keras_utils = get_submodules_from_kwargs(kwargs)\n",
        "\n",
        "    if block_name is not None:\n",
        "        conv_name = block_name + '_conv'\n",
        "\n",
        "    if block_name is not None and activation is not None:\n",
        "        act_str = activation.__name__ if callable(activation) else str(activation)\n",
        "        act_name = block_name + '_' + act_str\n",
        "\n",
        "    if block_name is not None and use_batchnorm:\n",
        "        bn_name = block_name + '_bn'\n",
        "\n",
        "    bn_axis = 3 if tf.keras.backend.image_data_format() == 'channels_last' else 1\n",
        "\n",
        "    def wrapper(input_tensor):\n",
        "\n",
        "        x = tf.keras.layers.Conv2D(\n",
        "            filters=filters,\n",
        "            kernel_size=kernel_size,\n",
        "            strides=strides,\n",
        "            padding=padding,\n",
        "            data_format=data_format,\n",
        "            dilation_rate=dilation_rate,\n",
        "            activation=None,\n",
        "            use_bias=not (use_batchnorm),\n",
        "            kernel_initializer=kernel_initializer,\n",
        "            bias_initializer=bias_initializer,\n",
        "            kernel_regularizer=kernel_regularizer,\n",
        "            bias_regularizer=bias_regularizer,\n",
        "            activity_regularizer=activity_regularizer,\n",
        "            kernel_constraint=kernel_constraint,\n",
        "            bias_constraint=bias_constraint,\n",
        "            name=conv_name,\n",
        "        )(input_tensor)\n",
        "\n",
        "        if use_batchnorm:\n",
        "            x = tf.keras.layers.BatchNormalization(axis=bn_axis, name=bn_name)(x)\n",
        "\n",
        "        if activation:\n",
        "            x = tf.keras.layers.Activation(activation, name=act_name)(x)\n",
        "\n",
        "        return x\n",
        "\n",
        "    return wrapper\n",
        "\n",
        "def Conv3xxBnReLU(filters, use_batchnorm, name=None):\n",
        "    #kwargs = get_submodules()\n",
        "    \n",
        "    def wrapper(input_tensor):\n",
        "        return Conv2dBn(\n",
        "            filters,\n",
        "            kernel_size=3,\n",
        "            activation='relu',\n",
        "            kernel_initializer='he_uniform',\n",
        "            padding='same',\n",
        "            use_batchnorm=use_batchnorm,\n",
        "            name=name#,\n",
        "            #**kwargs\n",
        "        )(input_tensor)\n",
        "\n",
        "    return wrapper\n",
        "\n",
        "\n",
        "def DoubleConv3x3BnReLU(filters, use_batchnorm, name=None):\n",
        "    name1, name2 = None, None\n",
        "    if name is not None:\n",
        "        name1 = name + 'a'\n",
        "        name2 = name + 'b'\n",
        "\n",
        "    def wrapper(input_tensor):\n",
        "        x = Conv3x3BnReLU(filters, use_batchnorm, name=name1)(input_tensor)\n",
        "        x = Conv3x3BnReLU(filters, use_batchnorm, name=name2)(x)\n",
        "        return x\n",
        "\n",
        "    return wrapper\n",
        "\n",
        "\n",
        "def FPNBlock(pyramid_filters, stage):\n",
        "    conv0_name = 'fpn_stage_p{}_pre_conv'.format(stage)\n",
        "    conv1_name = 'fpn_stage_p{}_conv'.format(stage)\n",
        "    add_name = 'fpn_stage_p{}_add'.format(stage)\n",
        "    up_name = 'fpn_stage_p{}_upsampling'.format(stage)\n",
        "\n",
        "    channels_axis = 3 if tf.keras.backend.image_data_format() == 'channels_last' else 1\n",
        "\n",
        "    def wrapper(input_tensor, skip):\n",
        "        # if input tensor channels not equal to pyramid channels\n",
        "        # we will not be able to sum input tensor and skip\n",
        "        # so add extra conv layer to transform it\n",
        "        input_filters = tf.keras.backend.int_shape(input_tensor)[channels_axis]\n",
        "        if input_filters != pyramid_filters:\n",
        "            input_tensor = tf.keras.layers.Conv2D(\n",
        "                filters=pyramid_filters,\n",
        "                kernel_size=(1, 1),\n",
        "                kernel_initializer='he_uniform',\n",
        "                name=conv0_name,\n",
        "            )(input_tensor)\n",
        "\n",
        "        skip = tf.keras.layers.Conv2D(\n",
        "            filters=pyramid_filters,\n",
        "            kernel_size=(1, 1),\n",
        "            kernel_initializer='he_uniform',\n",
        "            name=conv1_name,\n",
        "        )(skip)\n",
        "\n",
        "        x = tf.keras.layers.UpSampling2D((2, 2), name=up_name)(input_tensor)\n",
        "        x = tf.keras.layers.Add(name=add_name)([x, skip])\n",
        "\n",
        "        return x\n",
        "\n",
        "    return wrapper"
      ],
      "execution_count": null,
      "outputs": []
    },
    {
      "cell_type": "markdown",
      "metadata": {
        "id": "UAPCqfQJhf9Q"
      },
      "source": [
        "### model"
      ]
    },
    {
      "cell_type": "code",
      "metadata": {
        "id": "sZ0Ub52scGHQ"
      },
      "source": [
        "def create_model(num_classes):\n",
        "  pyramid_filters = 256\n",
        "  segmentation_filters = 128\n",
        "  use_batchnorm = True\n",
        "  aggregation = 'sum'\n",
        "  dropout = None\n",
        "  activation = 'softmax'\n",
        "  skip_connection_layers = ('block5_conv3', 'block4_conv3', 'block3_conv3', 'block2_conv2', 'block1_conv2')\n",
        "\n",
        "  input_shape = (None, None, 3)\n",
        "\n",
        "  model_vgg16 = tf.keras.applications.vgg16.VGG16(input_shape=input_shape,\n",
        "                                              weights='imagenet',\n",
        "                                              include_top=False) \n",
        "\n",
        "  freeze_encoder = False # try to freeze\n",
        "  if freeze_encoder:\n",
        "    freeze_until = 15\n",
        "    for layer in model_vgg16.layers[:freeze_until]:\n",
        "        layer.trainable = False\n",
        "\n",
        "  input_ = model_vgg16.input\n",
        "  x = model_vgg16.output\n",
        "\n",
        "  skips = [model_vgg16.get_layer(name=i).output for i in skip_connection_layers]\n",
        "\n",
        "  # build FPN pyramid\n",
        "  p5 = FPNBlock(pyramid_filters, stage=5)(x, skips[0])\n",
        "  p4 = FPNBlock(pyramid_filters, stage=4)(p5, skips[1])\n",
        "  p3 = FPNBlock(pyramid_filters, stage=3)(p4, skips[2])\n",
        "  p2 = FPNBlock(pyramid_filters, stage=2)(p3, skips[3])\n",
        "\n",
        "  # add segmentation head to each\n",
        "  s5 = DoubleConv3x3BnReLU(segmentation_filters, use_batchnorm, name='segm_stage5')(p5)\n",
        "  s4 = DoubleConv3x3BnReLU(segmentation_filters, use_batchnorm, name='segm_stage4')(p4)\n",
        "  s3 = DoubleConv3x3BnReLU(segmentation_filters, use_batchnorm, name='segm_stage3')(p3)\n",
        "  s2 = DoubleConv3x3BnReLU(segmentation_filters, use_batchnorm, name='segm_stage2')(p2)\n",
        "\n",
        "  # upsampling to same resolution\n",
        "  s5 = tf.keras.layers.UpSampling2D((8, 8), interpolation='nearest', name='upsampling_stage5')(s5)\n",
        "  s4 = tf.keras.layers.UpSampling2D((4, 4), interpolation='nearest', name='upsampling_stage4')(s4)\n",
        "  s3 = tf.keras.layers.UpSampling2D((2, 2), interpolation='nearest', name='upsampling_stage3')(s3)\n",
        "\n",
        "  # aggregating results\n",
        "  if aggregation == 'sum':\n",
        "      x = tf.keras.layers.Add(name='aggregation_sum')([s2, s3, s4, s5])\n",
        "  elif aggregation == 'concat':\n",
        "      concat_axis = 3 if tf.keras.backend.image_data_format() == 'channels_last' else 1\n",
        "      x = tf.keras.layers.Concatenate(axis=concat_axis, name='aggregation_concat')([s2, s3, s4, s5])\n",
        "  else:\n",
        "      raise ValueError('Aggregation parameter should be in (\"sum\", \"concat\"), '\n",
        "                        'got {}'.format(aggregation))\n",
        "\n",
        "  if dropout:\n",
        "      x = tf.keras.layers.SpatialDropout2D(dropout, name='pyramid_dropout')(x)\n",
        "\n",
        "  # final stage\n",
        "  x = Conv3x3BnReLU(segmentation_filters, use_batchnorm, name='final_stage')(x)\n",
        "  x = tf.keras.layers.UpSampling2D(size=(2, 2), interpolation='bilinear', name='final_upsampling')(x)\n",
        "\n",
        "  # model head (define number of output classes)\n",
        "  x = tf.keras.layers.Conv2D(\n",
        "      filters=num_classes,\n",
        "      kernel_size=(3, 3),\n",
        "      padding='same',\n",
        "      use_bias=True,\n",
        "      kernel_initializer='glorot_uniform',\n",
        "      name='head_conv',\n",
        "  )(x)\n",
        "  x = tf.keras.layers.Activation(activation, name=activation)(x)\n",
        "\n",
        "  # create keras model instance\n",
        "  model = tf.keras.models.Model(input_, x)\n",
        "  return model"
      ],
      "execution_count": null,
      "outputs": []
    },
    {
      "cell_type": "code",
      "metadata": {
        "id": "k97OK6CRnFJS",
        "scrolled": true
      },
      "source": [
        "num_classes=3\n",
        "model = create_model(num_classes=3)"
      ],
      "execution_count": null,
      "outputs": []
    },
    {
      "cell_type": "markdown",
      "metadata": {
        "id": "NGzh16WTnFJW"
      },
      "source": [
        "## Prepare the model for training"
      ]
    },
    {
      "cell_type": "code",
      "metadata": {
        "colab": {
          "base_uri": "https://localhost:8080/"
        },
        "id": "BexqjSUl5LLR",
        "outputId": "32dcded2-a7a9-478d-b362-022d894f25a9"
      },
      "source": [
        "%env SM_FRAMEWORK=tf.keras\n",
        "import segmentation_models as sm"
      ],
      "execution_count": null,
      "outputs": [
        {
          "output_type": "stream",
          "text": [
            "env: SM_FRAMEWORK=tf.keras\n"
          ],
          "name": "stdout"
        }
      ]
    },
    {
      "cell_type": "code",
      "metadata": {
        "id": "9MlmYGVMnFJW"
      },
      "source": [
        "# Optimization params\n",
        "# -------------------\n",
        "\n",
        "# Loss\n",
        "# Sparse Categorical Crossentropy to use integers (mask) instead of one-hot encoded labels\n",
        "loss = tf.keras.losses.SparseCategoricalCrossentropy() \n",
        "# learning rate\n",
        "lr = 1e-4\n",
        "optimizer = tf.keras.optimizers.Adam(learning_rate=lr)\n",
        "# -------------------\n",
        "\n",
        "# Here we define the intersection over union for each class in the batch.\n",
        "# Then we compute the final iou as the mean over classes\n",
        "def meanIoU(y_true, y_pred):\n",
        "    # get predicted class from softmax\n",
        "    y_pred = tf.expand_dims(tf.argmax(y_pred, -1), -1)\n",
        "\n",
        "    per_class_iou = []\n",
        "\n",
        "    for i in range(1,2): # exclude the background class 0\n",
        "      # Get prediction and target related to only a single class (i)\n",
        "      class_pred = tf.cast(tf.where(y_pred == i, 1, 0), tf.float32)\n",
        "      class_true = tf.cast(tf.where(y_true == i, 1, 0), tf.float32)\n",
        "      intersection = tf.reduce_sum(class_true * class_pred)\n",
        "      union = tf.reduce_sum(class_true) + tf.reduce_sum(class_pred) - intersection\n",
        "    \n",
        "      iou = (intersection + 1e-7) / (union + 1e-7)\n",
        "      per_class_iou.append(iou)\n",
        "\n",
        "    return tf.reduce_mean(per_class_iou)\n",
        "\n",
        "# Validation metrics\n",
        "# ------------------\n",
        "metrics = ['accuracy', meanIoU]\n",
        "# ------------------\n",
        "\n",
        "# Compile Model\n",
        "model.compile(optimizer=optimizer, loss=loss, metrics=metrics)"
      ],
      "execution_count": null,
      "outputs": []
    },
    {
      "cell_type": "code",
      "metadata": {
        "id": "kya4zyn45VNx"
      },
      "source": [
        "LR = 0.0001\n",
        "\n",
        "# define optomizer\n",
        "optim = tf.keras.optimizers.Adam(LR)\n",
        "\n",
        "# Segmentation models losses can be combined together by '+' and scaled by integer or float factor\n",
        "colors_dict[2] = [255, 0,0]\n",
        "colors_dict[1] = [255, 255, 255]  # foreground\n",
        "colors_dict[0] = [0, 0, 0]  # background\n",
        "# set class weights for dice_loss (background: 0; WHITE plants: 1;  RED Weed: 2; )\n",
        "dice_loss = sm.losses.DiceLoss(class_weights=np.array([0.5, 1, 1.5])) \n",
        "focal_loss = sm.losses.BinaryFocalLoss() if num_classes == 1 else sm.losses.CategoricalFocalLoss()\n",
        "total_loss = dice_loss + (1 * focal_loss)\n",
        "\n",
        "# actulally total_loss can be imported directly from library, above example just show you how to manipulate with losses\n",
        "# total_loss = sm.losses.binary_focal_dice_loss # or sm.losses.categorical_focal_dice_loss \n",
        "\n",
        "metrics = [sm.metrics.IOUScore(threshold=0.5), sm.metrics.FScore(threshold=0.5)]\n",
        "\n",
        "# compile keras model with defined optimozer, loss and metrics\n",
        "model.compile(optim, total_loss, metrics)\n",
        "#model.compile(optim, focal_loss, metrics)"
      ],
      "execution_count": null,
      "outputs": []
    },
    {
      "cell_type": "markdown",
      "metadata": {
        "id": "PA6D_TBknFJZ"
      },
      "source": [
        "## Training with callbacks"
      ]
    },
    {
      "cell_type": "code",
      "metadata": {
        "id": "VlTeHkBL5Snb",
        "colab": {
          "base_uri": "https://localhost:8080/"
        },
        "outputId": "ec19a39a-411a-40f3-8066-2af5dafb2123"
      },
      "source": [
        "model.evaluate(valid_dataset,batch_size = 1, steps = 1)"
      ],
      "execution_count": null,
      "outputs": [
        {
          "output_type": "stream",
          "text": [
            "1/1 [==============================] - 2s 2s/step - loss: 1.2089 - iou_score: 0.0535 - f1-score: 0.0976\n"
          ],
          "name": "stdout"
        },
        {
          "output_type": "execute_result",
          "data": {
            "text/plain": [
              "[1.2089353799819946, 0.05350935086607933, 0.09764117002487183]"
            ]
          },
          "metadata": {
            "tags": []
          },
          "execution_count": 408
        }
      ]
    },
    {
      "cell_type": "code",
      "metadata": {
        "id": "3XiwaKZhnFJa",
        "scrolled": true,
        "colab": {
          "base_uri": "https://localhost:8080/",
          "height": 443
        },
        "outputId": "8f0003bb-1b49-41cc-8f30-41852638745f"
      },
      "source": [
        "import os\n",
        "from datetime import datetime\n",
        "\n",
        "cwd = os.getcwd()\n",
        "\n",
        "exps_dir = os.path.join(cwd, 'drive/My Drive/Keras4/', 'Crop_CNN')\n",
        "if not os.path.exists(exps_dir):\n",
        "    os.makedirs(exps_dir)\n",
        "\n",
        "now = datetime.now().strftime('%b%d_%H-%M-%S')\n",
        "\n",
        "model_name = 'CNN'\n",
        "\n",
        "exp_dir = os.path.join(exps_dir, model_name + '_' + str(now))\n",
        "if not os.path.exists(exp_dir):\n",
        "    os.makedirs(exp_dir)\n",
        "    \n",
        "callbacks = []\n",
        "\n",
        "# Model checkpoint\n",
        "# ----------------\n",
        "ckpt_dir = os.path.join(exp_dir, 'ckpts')\n",
        "if not os.path.exists(ckpt_dir):\n",
        "    os.makedirs(ckpt_dir)\n",
        "\n",
        "ckpt_callback = tf.keras.callbacks.ModelCheckpoint(filepath=os.path.join(ckpt_dir, 'cp_{epoch:02d}.ckpt'), \n",
        "                                                   save_weights_only=True)  # False to save the model directly\n",
        "callbacks.append(ckpt_callback)\n",
        "\n",
        "# Visualize Learning on Tensorboard\n",
        "# ---------------------------------\n",
        "tb_dir = os.path.join(exp_dir, 'tb_logs')\n",
        "if not os.path.exists(tb_dir):\n",
        "    os.makedirs(tb_dir)\n",
        "    \n",
        "# By default shows losses and metrics for both training and validation\n",
        "tb_callback = tf.keras.callbacks.TensorBoard(log_dir=tb_dir,\n",
        "                                             profile_batch=0,\n",
        "                                             histogram_freq=0)  # if 1 shows weights histograms\n",
        "callbacks.append(tb_callback)\n",
        "\n",
        "# Early Stopping\n",
        "# --------------\n",
        "early_stop = True\n",
        "if early_stop:\n",
        "    es_callback = tf.keras.callbacks.EarlyStopping(monitor='val_loss', patience=5, restore_best_weights = True)\n",
        "    callbacks.append(es_callback)\n",
        "\n",
        "model.fit(x=train_dataset,\n",
        "          epochs=100,  #### set repeat in training dataset\n",
        "          steps_per_epoch=len(dataset)/8, #divided by batch size\n",
        "          validation_data=valid_dataset,\n",
        "          validation_steps=len(dataset_valid), \n",
        "          callbacks=callbacks)\n",
        "\n",
        "# How to visualize Tensorboard\n",
        "\n",
        "# 1. tensorboard --logdir EXPERIMENTS_DIR --port PORT     <- from terminal\n",
        "# 2. localhost:PORT   <- in your browser"
      ],
      "execution_count": null,
      "outputs": [
        {
          "output_type": "stream",
          "text": [
            "Epoch 1/100\n",
            "18/18 [==============================] - 78s 4s/step - loss: 0.7435 - iou_score: 0.2128 - f1-score: 0.2887 - val_loss: 1.0830 - val_iou_score: 0.0920 - val_f1-score: 0.1565\n",
            "Epoch 2/100\n",
            " 8/18 [============>.................] - ETA: 16s - loss: 0.6288 - iou_score: 0.3136 - f1-score: 0.3513"
          ],
          "name": "stdout"
        },
        {
          "output_type": "error",
          "ename": "KeyboardInterrupt",
          "evalue": "ignored",
          "traceback": [
            "\u001b[0;31m---------------------------------------------------------------------------\u001b[0m",
            "\u001b[0;31mKeyboardInterrupt\u001b[0m                         Traceback (most recent call last)",
            "\u001b[0;32m<ipython-input-413-4b3bf0d9905f>\u001b[0m in \u001b[0;36m<module>\u001b[0;34m()\u001b[0m\n\u001b[1;32m     52\u001b[0m           \u001b[0mvalidation_data\u001b[0m\u001b[0;34m=\u001b[0m\u001b[0mvalid_dataset\u001b[0m\u001b[0;34m,\u001b[0m\u001b[0;34m\u001b[0m\u001b[0;34m\u001b[0m\u001b[0m\n\u001b[1;32m     53\u001b[0m           \u001b[0mvalidation_steps\u001b[0m\u001b[0;34m=\u001b[0m\u001b[0mlen\u001b[0m\u001b[0;34m(\u001b[0m\u001b[0mdataset_valid\u001b[0m\u001b[0;34m)\u001b[0m\u001b[0;34m,\u001b[0m\u001b[0;34m\u001b[0m\u001b[0;34m\u001b[0m\u001b[0m\n\u001b[0;32m---> 54\u001b[0;31m           callbacks=callbacks)\n\u001b[0m\u001b[1;32m     55\u001b[0m \u001b[0;34m\u001b[0m\u001b[0m\n\u001b[1;32m     56\u001b[0m \u001b[0;31m# How to visualize Tensorboard\u001b[0m\u001b[0;34m\u001b[0m\u001b[0;34m\u001b[0m\u001b[0;34m\u001b[0m\u001b[0m\n",
            "\u001b[0;32m/usr/local/lib/python3.6/dist-packages/tensorflow/python/keras/engine/training.py\u001b[0m in \u001b[0;36mfit\u001b[0;34m(self, x, y, batch_size, epochs, verbose, callbacks, validation_split, validation_data, shuffle, class_weight, sample_weight, initial_epoch, steps_per_epoch, validation_steps, validation_batch_size, validation_freq, max_queue_size, workers, use_multiprocessing)\u001b[0m\n\u001b[1;32m   1098\u001b[0m                 _r=1):\n\u001b[1;32m   1099\u001b[0m               \u001b[0mcallbacks\u001b[0m\u001b[0;34m.\u001b[0m\u001b[0mon_train_batch_begin\u001b[0m\u001b[0;34m(\u001b[0m\u001b[0mstep\u001b[0m\u001b[0;34m)\u001b[0m\u001b[0;34m\u001b[0m\u001b[0;34m\u001b[0m\u001b[0m\n\u001b[0;32m-> 1100\u001b[0;31m               \u001b[0mtmp_logs\u001b[0m \u001b[0;34m=\u001b[0m \u001b[0mself\u001b[0m\u001b[0;34m.\u001b[0m\u001b[0mtrain_function\u001b[0m\u001b[0;34m(\u001b[0m\u001b[0miterator\u001b[0m\u001b[0;34m)\u001b[0m\u001b[0;34m\u001b[0m\u001b[0;34m\u001b[0m\u001b[0m\n\u001b[0m\u001b[1;32m   1101\u001b[0m               \u001b[0;32mif\u001b[0m \u001b[0mdata_handler\u001b[0m\u001b[0;34m.\u001b[0m\u001b[0mshould_sync\u001b[0m\u001b[0;34m:\u001b[0m\u001b[0;34m\u001b[0m\u001b[0;34m\u001b[0m\u001b[0m\n\u001b[1;32m   1102\u001b[0m                 \u001b[0mcontext\u001b[0m\u001b[0;34m.\u001b[0m\u001b[0masync_wait\u001b[0m\u001b[0;34m(\u001b[0m\u001b[0;34m)\u001b[0m\u001b[0;34m\u001b[0m\u001b[0;34m\u001b[0m\u001b[0m\n",
            "\u001b[0;32m/usr/local/lib/python3.6/dist-packages/tensorflow/python/eager/def_function.py\u001b[0m in \u001b[0;36m__call__\u001b[0;34m(self, *args, **kwds)\u001b[0m\n\u001b[1;32m    826\u001b[0m     \u001b[0mtracing_count\u001b[0m \u001b[0;34m=\u001b[0m \u001b[0mself\u001b[0m\u001b[0;34m.\u001b[0m\u001b[0mexperimental_get_tracing_count\u001b[0m\u001b[0;34m(\u001b[0m\u001b[0;34m)\u001b[0m\u001b[0;34m\u001b[0m\u001b[0;34m\u001b[0m\u001b[0m\n\u001b[1;32m    827\u001b[0m     \u001b[0;32mwith\u001b[0m \u001b[0mtrace\u001b[0m\u001b[0;34m.\u001b[0m\u001b[0mTrace\u001b[0m\u001b[0;34m(\u001b[0m\u001b[0mself\u001b[0m\u001b[0;34m.\u001b[0m\u001b[0m_name\u001b[0m\u001b[0;34m)\u001b[0m \u001b[0;32mas\u001b[0m \u001b[0mtm\u001b[0m\u001b[0;34m:\u001b[0m\u001b[0;34m\u001b[0m\u001b[0;34m\u001b[0m\u001b[0m\n\u001b[0;32m--> 828\u001b[0;31m       \u001b[0mresult\u001b[0m \u001b[0;34m=\u001b[0m \u001b[0mself\u001b[0m\u001b[0;34m.\u001b[0m\u001b[0m_call\u001b[0m\u001b[0;34m(\u001b[0m\u001b[0;34m*\u001b[0m\u001b[0margs\u001b[0m\u001b[0;34m,\u001b[0m \u001b[0;34m**\u001b[0m\u001b[0mkwds\u001b[0m\u001b[0;34m)\u001b[0m\u001b[0;34m\u001b[0m\u001b[0;34m\u001b[0m\u001b[0m\n\u001b[0m\u001b[1;32m    829\u001b[0m       \u001b[0mcompiler\u001b[0m \u001b[0;34m=\u001b[0m \u001b[0;34m\"xla\"\u001b[0m \u001b[0;32mif\u001b[0m \u001b[0mself\u001b[0m\u001b[0;34m.\u001b[0m\u001b[0m_experimental_compile\u001b[0m \u001b[0;32melse\u001b[0m \u001b[0;34m\"nonXla\"\u001b[0m\u001b[0;34m\u001b[0m\u001b[0;34m\u001b[0m\u001b[0m\n\u001b[1;32m    830\u001b[0m       \u001b[0mnew_tracing_count\u001b[0m \u001b[0;34m=\u001b[0m \u001b[0mself\u001b[0m\u001b[0;34m.\u001b[0m\u001b[0mexperimental_get_tracing_count\u001b[0m\u001b[0;34m(\u001b[0m\u001b[0;34m)\u001b[0m\u001b[0;34m\u001b[0m\u001b[0;34m\u001b[0m\u001b[0m\n",
            "\u001b[0;32m/usr/local/lib/python3.6/dist-packages/tensorflow/python/eager/def_function.py\u001b[0m in \u001b[0;36m_call\u001b[0;34m(self, *args, **kwds)\u001b[0m\n\u001b[1;32m    853\u001b[0m       \u001b[0;31m# In this case we have created variables on the first call, so we run the\u001b[0m\u001b[0;34m\u001b[0m\u001b[0;34m\u001b[0m\u001b[0;34m\u001b[0m\u001b[0m\n\u001b[1;32m    854\u001b[0m       \u001b[0;31m# defunned version which is guaranteed to never create variables.\u001b[0m\u001b[0;34m\u001b[0m\u001b[0;34m\u001b[0m\u001b[0;34m\u001b[0m\u001b[0m\n\u001b[0;32m--> 855\u001b[0;31m       \u001b[0;32mreturn\u001b[0m \u001b[0mself\u001b[0m\u001b[0;34m.\u001b[0m\u001b[0m_stateless_fn\u001b[0m\u001b[0;34m(\u001b[0m\u001b[0;34m*\u001b[0m\u001b[0margs\u001b[0m\u001b[0;34m,\u001b[0m \u001b[0;34m**\u001b[0m\u001b[0mkwds\u001b[0m\u001b[0;34m)\u001b[0m  \u001b[0;31m# pylint: disable=not-callable\u001b[0m\u001b[0;34m\u001b[0m\u001b[0;34m\u001b[0m\u001b[0m\n\u001b[0m\u001b[1;32m    856\u001b[0m     \u001b[0;32melif\u001b[0m \u001b[0mself\u001b[0m\u001b[0;34m.\u001b[0m\u001b[0m_stateful_fn\u001b[0m \u001b[0;32mis\u001b[0m \u001b[0;32mnot\u001b[0m \u001b[0;32mNone\u001b[0m\u001b[0;34m:\u001b[0m\u001b[0;34m\u001b[0m\u001b[0;34m\u001b[0m\u001b[0m\n\u001b[1;32m    857\u001b[0m       \u001b[0;31m# Release the lock early so that multiple threads can perform the call\u001b[0m\u001b[0;34m\u001b[0m\u001b[0;34m\u001b[0m\u001b[0;34m\u001b[0m\u001b[0m\n",
            "\u001b[0;32m/usr/local/lib/python3.6/dist-packages/tensorflow/python/eager/function.py\u001b[0m in \u001b[0;36m__call__\u001b[0;34m(self, *args, **kwargs)\u001b[0m\n\u001b[1;32m   2941\u001b[0m        filtered_flat_args) = self._maybe_define_function(args, kwargs)\n\u001b[1;32m   2942\u001b[0m     return graph_function._call_flat(\n\u001b[0;32m-> 2943\u001b[0;31m         filtered_flat_args, captured_inputs=graph_function.captured_inputs)  # pylint: disable=protected-access\n\u001b[0m\u001b[1;32m   2944\u001b[0m \u001b[0;34m\u001b[0m\u001b[0m\n\u001b[1;32m   2945\u001b[0m   \u001b[0;34m@\u001b[0m\u001b[0mproperty\u001b[0m\u001b[0;34m\u001b[0m\u001b[0;34m\u001b[0m\u001b[0m\n",
            "\u001b[0;32m/usr/local/lib/python3.6/dist-packages/tensorflow/python/eager/function.py\u001b[0m in \u001b[0;36m_call_flat\u001b[0;34m(self, args, captured_inputs, cancellation_manager)\u001b[0m\n\u001b[1;32m   1917\u001b[0m       \u001b[0;31m# No tape is watching; skip to running the function.\u001b[0m\u001b[0;34m\u001b[0m\u001b[0;34m\u001b[0m\u001b[0;34m\u001b[0m\u001b[0m\n\u001b[1;32m   1918\u001b[0m       return self._build_call_outputs(self._inference_function.call(\n\u001b[0;32m-> 1919\u001b[0;31m           ctx, args, cancellation_manager=cancellation_manager))\n\u001b[0m\u001b[1;32m   1920\u001b[0m     forward_backward = self._select_forward_and_backward_functions(\n\u001b[1;32m   1921\u001b[0m         \u001b[0margs\u001b[0m\u001b[0;34m,\u001b[0m\u001b[0;34m\u001b[0m\u001b[0;34m\u001b[0m\u001b[0m\n",
            "\u001b[0;32m/usr/local/lib/python3.6/dist-packages/tensorflow/python/eager/function.py\u001b[0m in \u001b[0;36mcall\u001b[0;34m(self, ctx, args, cancellation_manager)\u001b[0m\n\u001b[1;32m    558\u001b[0m               \u001b[0minputs\u001b[0m\u001b[0;34m=\u001b[0m\u001b[0margs\u001b[0m\u001b[0;34m,\u001b[0m\u001b[0;34m\u001b[0m\u001b[0;34m\u001b[0m\u001b[0m\n\u001b[1;32m    559\u001b[0m               \u001b[0mattrs\u001b[0m\u001b[0;34m=\u001b[0m\u001b[0mattrs\u001b[0m\u001b[0;34m,\u001b[0m\u001b[0;34m\u001b[0m\u001b[0;34m\u001b[0m\u001b[0m\n\u001b[0;32m--> 560\u001b[0;31m               ctx=ctx)\n\u001b[0m\u001b[1;32m    561\u001b[0m         \u001b[0;32melse\u001b[0m\u001b[0;34m:\u001b[0m\u001b[0;34m\u001b[0m\u001b[0;34m\u001b[0m\u001b[0m\n\u001b[1;32m    562\u001b[0m           outputs = execute.execute_with_cancellation(\n",
            "\u001b[0;32m/usr/local/lib/python3.6/dist-packages/tensorflow/python/eager/execute.py\u001b[0m in \u001b[0;36mquick_execute\u001b[0;34m(op_name, num_outputs, inputs, attrs, ctx, name)\u001b[0m\n\u001b[1;32m     58\u001b[0m     \u001b[0mctx\u001b[0m\u001b[0;34m.\u001b[0m\u001b[0mensure_initialized\u001b[0m\u001b[0;34m(\u001b[0m\u001b[0;34m)\u001b[0m\u001b[0;34m\u001b[0m\u001b[0;34m\u001b[0m\u001b[0m\n\u001b[1;32m     59\u001b[0m     tensors = pywrap_tfe.TFE_Py_Execute(ctx._handle, device_name, op_name,\n\u001b[0;32m---> 60\u001b[0;31m                                         inputs, attrs, num_outputs)\n\u001b[0m\u001b[1;32m     61\u001b[0m   \u001b[0;32mexcept\u001b[0m \u001b[0mcore\u001b[0m\u001b[0;34m.\u001b[0m\u001b[0m_NotOkStatusException\u001b[0m \u001b[0;32mas\u001b[0m \u001b[0me\u001b[0m\u001b[0;34m:\u001b[0m\u001b[0;34m\u001b[0m\u001b[0;34m\u001b[0m\u001b[0m\n\u001b[1;32m     62\u001b[0m     \u001b[0;32mif\u001b[0m \u001b[0mname\u001b[0m \u001b[0;32mis\u001b[0m \u001b[0;32mnot\u001b[0m \u001b[0;32mNone\u001b[0m\u001b[0;34m:\u001b[0m\u001b[0;34m\u001b[0m\u001b[0;34m\u001b[0m\u001b[0m\n",
            "\u001b[0;31mKeyboardInterrupt\u001b[0m: "
          ]
        }
      ]
    },
    {
      "cell_type": "markdown",
      "metadata": {
        "id": "EZ1Yl-InnFJd"
      },
      "source": [
        "## Test model"
      ]
    },
    {
      "cell_type": "markdown",
      "metadata": {
        "id": "WuVw1q_NnFJh"
      },
      "source": [
        "## Compute prediction"
      ]
    },
    {
      "cell_type": "code",
      "metadata": {
        "id": "-JUMMkS9eyQW",
        "colab": {
          "base_uri": "https://localhost:8080/"
        },
        "outputId": "22a89869-e428-4754-f912-118a2cdabc24"
      },
      "source": [
        "model.load_weights('/content/drive/My Drive/Keras4/Crop_CNN/CNN_Dec18_00-01-31/ckpts/cp_01.ckpt')"
      ],
      "execution_count": null,
      "outputs": [
        {
          "output_type": "execute_result",
          "data": {
            "text/plain": [
              "<tensorflow.python.training.tracking.util.CheckpointLoadStatus at 0x7fb50c6184e0>"
            ]
          },
          "metadata": {
            "tags": []
          },
          "execution_count": 380
        }
      ]
    },
    {
      "cell_type": "code",
      "metadata": {
        "id": "zo1JbCO5nFJh",
        "scrolled": false
      },
      "source": [
        "import time\n",
        "import matplotlib.pyplot as plt\n",
        "\n",
        "from PIL import Image\n",
        "\n",
        "%matplotlib inline\n",
        "\n",
        "iterator = iter(valid_dataset)"
      ],
      "execution_count": null,
      "outputs": []
    },
    {
      "cell_type": "code",
      "metadata": {
        "id": "M75UjH7xxS7J",
        "colab": {
          "base_uri": "https://localhost:8080/",
          "height": 173
        },
        "outputId": "6c6f19c2-edbe-4871-ffe5-a299e09bee70"
      },
      "source": [
        "fig, ax = plt.subplots(1, 3, figsize=(8, 8))\n",
        "fig.show()\n",
        "#iterator = iter(valid_dataset)\n",
        "image, target = next(iterator)\n",
        "\n",
        "image = image[0]\n",
        "image.shape\n",
        "target = target[0, ..., 0]\n",
        "\n",
        "out_sigmoid = model.predict(x=tf.expand_dims(image, 0))\n",
        "\n",
        "# Get predicted class as the index corresponding to the maximum value in the vector probability\n",
        "# predicted_class = tf.cast(out_sigmoid > score_th, tf.int32)\n",
        "# predicted_class = predicted_class[0, ..., 0]\n",
        "predicted_class = tf.argmax(out_sigmoid, -1)\n",
        "\n",
        "#out_sigmoid.shape\n",
        "\n",
        "predicted_class = predicted_class[0, ...]\n",
        "predicted_class.shape\n",
        "\n",
        "\n",
        "# Assign colors (just for visualization)\n",
        "target_img = np.zeros([target.shape[0], target.shape[1], 3])\n",
        "prediction_img = np.zeros([target.shape[0], target.shape[1], 3])\n",
        "\n",
        "target_img[np.where(target == 0)] = colors_dict[0]\n",
        "target_img[np.where(target == 1)] = colors_dict[1]\n",
        "target_img[np.where(target == 2)] = colors_dict[2]\n",
        "\n",
        "prediction_img[np.where(predicted_class == 0)] = colors_dict[0]\n",
        "prediction_img[np.where(predicted_class == 1)] = colors_dict[1]\n",
        "prediction_img[np.where(predicted_class == 2)] = colors_dict[2]\n",
        "\n",
        "\n",
        "ax[0].imshow(np.uint8(image))\n",
        "ax[1].imshow(np.uint8(target_img))\n",
        "ax[2].imshow(np.uint8(prediction_img))\n",
        "\n",
        "img = Image.fromarray(np.uint8(prediction_img)).resize((mask_w,mask_h), Image.NEAREST)\n",
        "\n",
        "\n",
        "\n",
        "fig.canvas.draw()\n",
        "time.sleep(1)"
      ],
      "execution_count": null,
      "outputs": [
        {
          "output_type": "execute_result",
          "data": {
            "text/plain": [
              "TensorShape([1728, 2592, 3])"
            ]
          },
          "metadata": {
            "tags": []
          },
          "execution_count": 414
        },
        {
          "output_type": "execute_result",
          "data": {
            "text/plain": [
              "TensorShape([1728, 2592])"
            ]
          },
          "metadata": {
            "tags": []
          },
          "execution_count": 414
        },
        {
          "output_type": "execute_result",
          "data": {
            "text/plain": [
              "<matplotlib.image.AxesImage at 0x7fb4ffe227f0>"
            ]
          },
          "metadata": {
            "tags": []
          },
          "execution_count": 414
        },
        {
          "output_type": "execute_result",
          "data": {
            "text/plain": [
              "<matplotlib.image.AxesImage at 0x7fb4f7ea9550>"
            ]
          },
          "metadata": {
            "tags": []
          },
          "execution_count": 414
        },
        {
          "output_type": "execute_result",
          "data": {
            "text/plain": [
              "<matplotlib.image.AxesImage at 0x7fb50c614f60>"
            ]
          },
          "metadata": {
            "tags": []
          },
          "execution_count": 414
        },
        {
          "output_type": "display_data",
          "data": {
            "image/png": "[encoded data removed]",
            "text/plain": [
              "<Figure size 576x576 with 3 Axes>"
            ]
          },
          "metadata": {
            "tags": [],
            "needs_background": "light"
          }
        }
      ]
    },
    {
      "cell_type": "code",
      "metadata": {
        "id": "Z4lL6Jbmq-0o",
        "colab": {
          "base_uri": "https://localhost:8080/"
        },
        "outputId": "8c24c1c2-470d-4f92-d398-b049cff6da6d"
      },
      "source": [
        "!unzip /content/drive/MyDrive/image-segmentation/dataset/Test_Dev.zip"
      ],
      "execution_count": null,
      "outputs": [
        {
          "output_type": "stream",
          "text": [
            "unzip:  cannot find or open /content/drive/MyDrive/image-segmentation/dataset/Test_Dev.zip, /content/drive/MyDrive/image-segmentation/dataset/Test_Dev.zip.zip or /content/drive/MyDrive/image-segmentation/dataset/Test_Dev.zip.ZIP.\n"
          ],
          "name": "stdout"
        }
      ]
    },
    {
      "cell_type": "code",
      "metadata": {
        "id": "go98od-5tBdG"
      },
      "source": [
        "import os\n",
        "import json\n",
        "import numpy as np\n",
        "from PIL import Image\n",
        "\n",
        "\n",
        "def rle_encode(img):\n",
        "    '''\n",
        "    img: numpy array, 1 - foreground, 0 - background\n",
        "    Returns run length as string formatted\n",
        "    '''\n",
        "    pixels = img.flatten()\n",
        "    pixels = np.concatenate([[0], pixels, [0]])\n",
        "    runs = np.where(pixels[1:] != pixels[:-1])[0] + 1\n",
        "    runs[1::2] -= runs[::2]\n",
        "    \n",
        "    return ' '.join(str(x) for x in runs)"
      ],
      "execution_count": null,
      "outputs": []
    },
    {
      "cell_type": "code",
      "metadata": {
        "id": "2q6kCisdq-0N"
      },
      "source": [
        "data_folders = next(os.walk(\"/content/BPRW/Test_Dev/\"))[1]\r\n",
        "data_folders\r\n",
        "for ds in data_folders:\r\n",
        "  subset_folders = next(os.walk(\"/content/BPRW/Test_Dev/\"+ds))[1]\r\n",
        "  subset_folders\r\n",
        "  for sb in subset_folders:\r\n",
        "    test_filenames = next(os.walk(\"/content/BPRW/Test_Dev/\"+ds+\"/\"+sb+\"/Images\"))[2]\r\n",
        "    #test_filenames\r\n",
        "    #for name in test_filenames:\r\n",
        "    #  name\r\n",
        " "
      ],
      "execution_count": null,
      "outputs": []
    },
    {
      "cell_type": "code",
      "metadata": {
        "id": "dgmUjiBuhZOb"
      },
      "source": [
        "\n",
        "    # The submission file will be a zip file containing the a\n",
        "    # submission.json file.\n",
        "\n",
        "    # It must have the following structure:\n",
        "\n",
        "    # - image name (without any extension, e.g., png, jpg, etc.)\n",
        "    #   - shape: shape of the original image as list [Height, Width]\n",
        "    #   - team: team of the original image. One in {'Bipbip', 'Pead', 'Roseau', 'Weedelec'}\n",
        "    #   - crop: crop of the original image. One in {'Haricot', 'Mais'}\n",
        "    #   - segmentation: prediction (as a dict)\n",
        "    #     - crop: RLE encoded crop segmentation (no weed)\n",
        "    #     - weed: RLE encoded weed segmentation (no crop)\n",
        "\n",
        "    # Please refer to the folder structure of the given dataset to fill\n",
        "    # the team and crop keys.\n",
        "\n",
        "    # EXAMPLE:\n",
        "\n",
        "    # Suppose that the numpy array generated with the\n",
        "    # 'read_mask_example.py' script is the output of your segmentation model.\n",
        "    # In addition, suppose that the team and crop of the segmented image\n",
        "    # are 'Bipbip' and 'Haricot', respectively.\n",
        "    # Then, in the following an example of submission file.\n",
        "  \n",
        "    #loop over test images\n",
        "data_folders = next(os.walk(\"/content/BPRW/Test_Dev/\"))[1]\n",
        "\n",
        "submission_dict = {}\n",
        "\n",
        "for ds in data_folders:\n",
        "  subset_folders = next(os.walk(\"/content/BPRW/Test_Dev/\"+ds))[1]\n",
        "  for sb in subset_folders:\n",
        "\n",
        "    test_filenames = next(os.walk(\"/content/BPRW/Test_Dev/\"+ds+\"/\"+sb+\"/Images\"))[2]\n",
        "    #test_filenames[:1]\n",
        "\n",
        "    for image_name in test_filenames:\n",
        "\n",
        "      img_name = image_name.split(\".\")[0]\n",
        "\n",
        "      # load mask <- HERE you should have your segmentation model instead\n",
        "      if (ds == \"Roseau\"):\n",
        "        image = Image.open(\"/content/BPRW/Test_Dev/\"+ds+\"/\"+sb+\"/Images/\"+image_name).convert('RGB')\n",
        "        width, height = image.size\n",
        "        image.size\n",
        "        #image = image.resize((int(width/2), int(height/2)))\n",
        "        #image\n",
        "        # ------- padding image in order to work with all dataset ----\n",
        "        # Not working now\n",
        "        pre = np.array(image)\n",
        "        pre.shape\n",
        "        #break\n",
        "        if(height % 2 != 0 and width % 2 != 0):\n",
        "          pre =np.pad(pre, ((1,1), (1,1), (0, 0)), 'constant')\n",
        "        if(height % 2 != 0):\n",
        "          #pad width  \n",
        "          pre = np.pad(pre, ((0,0), (1,1), (0, 0)), 'constant')\n",
        "        if(width % 2 != 0):\n",
        "         pre =np.pad(pre, ((1,1), (0,0), (0, 0)), 'constant')  \n",
        "\n",
        "        pre = Image.fromarray(np.uint8(pre)).resize((int(width/2), int(height/2)))\n",
        "\n",
        "        #--- end padding \n",
        "\n",
        "        image_array = tf.cast(tf.expand_dims(np.array(pre), 0), tf.float32) #substitute pre with image\n",
        "        \n",
        "       # image_array\n",
        "        #image_array = preprocess_input(image_array)\n",
        "        out_sigmoid = model.predict(x = image_array)\n",
        "\n",
        "        predicted_class = tf.argmax(out_sigmoid, -1)\n",
        "      \n",
        "\n",
        "        predicted_class = predicted_class[0, ...]\n",
        "        prediction_img = np.zeros([int(height/2),int(width/2), 3])\n",
        "        \n",
        "\n",
        "        \n",
        "\n",
        "        prediction_img[np.where(predicted_class == 0)] = colors_dict[0]\n",
        "        prediction_img[np.where(predicted_class == 1)] = colors_dict[1]\n",
        "        prediction_img[np.where(predicted_class == 2)] = colors_dict[2]\n",
        "\n",
        "        \n",
        "        img = Image.fromarray(np.uint8(prediction_img)).resize((width, height), Image.NEAREST)\n",
        "        #img\n",
        "        mask_arr = np.array(img)\n",
        "\n",
        "        new_mask_arr = np.zeros(mask_arr.shape[:2], dtype=mask_arr.dtype)\n",
        "\n",
        "          # Use RGB dictionary in 'RGBtoTarget.txt' to convert RGB to target\n",
        "        new_mask_arr[np.where(np.all(mask_arr == colors_dict[0], axis=-1))] = 0\n",
        "        new_mask_arr[np.where(np.all(mask_arr == colors_dict[1], axis=-1))] = 1\n",
        "        new_mask_arr[np.where(np.all(mask_arr == colors_dict[2], axis=-1))] = 2\n",
        "       # predicted_class\n",
        "        mask_arr = new_mask_arr\n",
        "      else:\n",
        "        mask_arr = np.zeros([mask_w, mask_h, 3]) \n",
        "      #image_array\n",
        "      #mask_arr\n",
        "      \n",
        "\n",
        "      submission_dict[img_name] = {}\n",
        "      submission_dict[img_name]['shape'] = mask_arr.shape\n",
        "      submission_dict[img_name]['team'] = ds\n",
        "      submission_dict[img_name]['crop'] = sb\n",
        "      submission_dict[img_name]['segmentation'] = {}\n",
        "\n",
        "          # RLE encoding\n",
        "          # crop\n",
        "      rle_encoded_crop = rle_encode(mask_arr == 1)\n",
        "          # weed\n",
        "      rle_encoded_weed = rle_encode(mask_arr == 2)\n",
        "\n",
        "      submission_dict[img_name]['segmentation']['crop'] = rle_encoded_crop\n",
        "      submission_dict[img_name]['segmentation']['weed'] = rle_encoded_weed\n",
        "\n",
        "submission_dict\n",
        "# Please notice that in this example we have a single prediction.\n",
        "# For the competition you have to provide segmentation for each of\n",
        "# the test images.\n",
        "\n",
        "# Finally, save the results into the submission.json file\n",
        "with open('/content/submission.json', 'w') as f:\n",
        "    json.dump(submission_dict, f)\n"
      ],
      "execution_count": null,
      "outputs": []
    }
  ]
}