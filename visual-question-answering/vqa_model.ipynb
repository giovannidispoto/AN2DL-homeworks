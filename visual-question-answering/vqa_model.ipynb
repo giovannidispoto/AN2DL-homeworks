{
  "nbformat": 4,
  "nbformat_minor": 0,
  "metadata": {
    "accelerator": "GPU",
    "colab": {
      "name": "vqa-experiments-fast-rcnn_ALB.ipynb",
      "provenance": [],
      "collapsed_sections": [
        "7PasrVSDPk3m",
        "5MlVUE27PqYL",
        "Fyx28iuHT6Zp",
        "e0_qRdk5QV3H",
        "K2mD771eQfem"
      ],
      "toc_visible": true
    },
    "kernelspec": {
      "display_name": "Python 3",
      "language": "python",
      "name": "python3"
    },
    "language_info": {
      "codemirror_mode": {
        "name": "ipython",
        "version": 3
      },
      "file_extension": ".py",
      "mimetype": "text/x-python",
      "name": "python",
      "nbconvert_exporter": "python",
      "pygments_lexer": "ipython3",
      "version": "3.7.7"
    }
  },
  "cells": [
    {
      "cell_type": "markdown",
      "metadata": {
        "id": "7PasrVSDPk3m"
      },
      "source": [
        "# **Import and unzip**"
      ]
    },
    {
      "cell_type": "code",
      "metadata": {
        "id": "FiLwi7HcT6Zm"
      },
      "source": [
        "from IPython.core.interactiveshell import InteractiveShell\n",
        "InteractiveShell.ast_node_interactivity = \"all\""
      ],
      "execution_count": 1,
      "outputs": []
    },
    {
      "cell_type": "code",
      "metadata": {
        "id": "KJqHEF3eT6Zn"
      },
      "source": [
        "import os\n",
        "import tensorflow as tf\n",
        "import numpy as np\n",
        "import pandas as pd\n",
        "import math\n",
        "import matplotlib.pyplot as plt\n",
        "\n",
        "\n",
        "# Set the seed for random operations. \n",
        "# This let our experiments to be reproducible. \n",
        "SEED = 1234\n",
        "tf.random.set_seed(SEED)\n",
        "np.random.seed(SEED)\n",
        "\n",
        "# Get current working directory\n",
        "cwd = os.getcwd()"
      ],
      "execution_count": 8,
      "outputs": []
    },
    {
      "cell_type": "code",
      "metadata": {
        "colab": {
          "base_uri": "https://localhost:8080/"
        },
        "id": "41UUNZOHWyfX",
        "outputId": "78536476-07c0-4086-c2b9-bf73c01193f2"
      },
      "source": [
        "from google.colab import drive\n",
        "drive.mount('/content/drive/')"
      ],
      "execution_count": 3,
      "outputs": [
        {
          "output_type": "stream",
          "text": [
            "Mounted at /content/drive/\n"
          ],
          "name": "stdout"
        }
      ]
    },
    {
      "cell_type": "code",
      "metadata": {
        "id": "pu6Q_E17XHJR"
      },
      "source": [
        "!unzip /content/drive/MyDrive/visual-question-answering/anndl-2020-vqa.zip > /dev/null"
      ],
      "execution_count": 4,
      "outputs": []
    },
    {
      "cell_type": "markdown",
      "metadata": {
        "id": "BeszjH0iT6Zo"
      },
      "source": [
        "# **Dataset**"
      ]
    },
    {
      "cell_type": "markdown",
      "metadata": {
        "id": "5MlVUE27PqYL"
      },
      "source": [
        "## Tokenization"
      ]
    },
    {
      "cell_type": "code",
      "metadata": {
        "id": "MoIU-IT0cjiY"
      },
      "source": [
        "labels_dict = {\r\n",
        "        '0': 0,\r\n",
        "        '1': 1,\r\n",
        "        '2': 2,\r\n",
        "        '3': 3,\r\n",
        "        '4': 4,\r\n",
        "        '5': 5,\r\n",
        "        'apple': 6,\r\n",
        "        'baseball': 7,\r\n",
        "        'bench': 8,\r\n",
        "        'bike': 9,\r\n",
        "        'bird': 10,\r\n",
        "        'black': 11,\r\n",
        "        'blanket': 12,\r\n",
        "        'blue': 13,\r\n",
        "        'bone': 14,\r\n",
        "        'book': 15,\r\n",
        "        'boy': 16,\r\n",
        "        'brown': 17,\r\n",
        "        'cat': 18,\r\n",
        "        'chair': 19,\r\n",
        "        'couch': 20,\r\n",
        "        'dog': 21,\r\n",
        "        'floor': 22,\r\n",
        "        'food': 23,\r\n",
        "        'football': 24,\r\n",
        "        'girl': 25,\r\n",
        "        'grass': 26,\r\n",
        "        'gray': 27,\r\n",
        "        'green': 28,\r\n",
        "        'left': 29,\r\n",
        "        'log': 30,\r\n",
        "        'man': 31,\r\n",
        "        'monkey bars': 32,\r\n",
        "        'no': 33,\r\n",
        "        'nothing': 34,\r\n",
        "        'orange': 35,\r\n",
        "        'pie': 36,\r\n",
        "        'plant': 37,\r\n",
        "        'playing': 38,\r\n",
        "        'red': 39,\r\n",
        "        'right': 40,\r\n",
        "        'rug': 41,\r\n",
        "        'sandbox': 42,\r\n",
        "        'sitting': 43,\r\n",
        "        'sleeping': 44,\r\n",
        "        'soccer': 45,\r\n",
        "        'squirrel': 46,\r\n",
        "        'standing': 47,\r\n",
        "        'stool': 48,\r\n",
        "        'sunny': 49,\r\n",
        "        'table': 50,\r\n",
        "        'tree': 51,\r\n",
        "        'watermelon': 52,\r\n",
        "        'white': 53,\r\n",
        "        'wine': 54,\r\n",
        "        'woman': 55,\r\n",
        "        'yellow': 56,\r\n",
        "        'yes': 57\r\n",
        "}"
      ],
      "execution_count": 5,
      "outputs": []
    },
    {
      "cell_type": "code",
      "metadata": {
        "colab": {
          "base_uri": "https://localhost:8080/",
          "height": 552
        },
        "id": "WBKw-g6cT6Zo",
        "outputId": "c6ce8c54-e179-4fc9-d677-6359a19b65fe"
      },
      "source": [
        "# Prepare dataset\n",
        "# ---------------\n",
        "import pandas as pd\n",
        "\n",
        "train_questions = pd.read_json('/content/VQA_Dataset/train_questions_annotations.json')\n",
        "test_questions = pd.read_json('/content/VQA_Dataset/test_questions.json')\n",
        "train_questions\n",
        "test_questions\n",
        "\n",
        "#Questions\n",
        "questions = list(train_questions.iloc[0])\n",
        "#Answers\n",
        "answers = list(train_questions.iloc[2])\n",
        "#Images\n",
        "images = np.array(train_questions.iloc[1])\n",
        "\n",
        "#transform answers into values of dictionary\n",
        "for i in range(len(answers)):\n",
        "  answers[i] = labels_dict[answers[i]]\n",
        "\n"
      ],
      "execution_count": 6,
      "outputs": [
        {
          "output_type": "execute_result",
          "data": {
            "text/html": [
              "<div>\n",
              "<style scoped>\n",
              "    .dataframe tbody tr th:only-of-type {\n",
              "        vertical-align: middle;\n",
              "    }\n",
              "\n",
              "    .dataframe tbody tr th {\n",
              "        vertical-align: top;\n",
              "    }\n",
              "\n",
              "    .dataframe thead th {\n",
              "        text-align: right;\n",
              "    }\n",
              "</style>\n",
              "<table border=\"1\" class=\"dataframe\">\n",
              "  <thead>\n",
              "    <tr style=\"text-align: right;\">\n",
              "      <th></th>\n",
              "      <th>117792</th>\n",
              "      <th>117790</th>\n",
              "      <th>117791</th>\n",
              "      <th>55360</th>\n",
              "      <th>169490</th>\n",
              "      <th>169492</th>\n",
              "      <th>65022</th>\n",
              "      <th>33712</th>\n",
              "      <th>87880</th>\n",
              "      <th>87881</th>\n",
              "      <th>87882</th>\n",
              "      <th>100050</th>\n",
              "      <th>100052</th>\n",
              "      <th>15272</th>\n",
              "      <th>15270</th>\n",
              "      <th>25920</th>\n",
              "      <th>25921</th>\n",
              "      <th>25922</th>\n",
              "      <th>127540</th>\n",
              "      <th>127542</th>\n",
              "      <th>107960</th>\n",
              "      <th>107961</th>\n",
              "      <th>107962</th>\n",
              "      <th>154920</th>\n",
              "      <th>154921</th>\n",
              "      <th>13290</th>\n",
              "      <th>13292</th>\n",
              "      <th>146570</th>\n",
              "      <th>156160</th>\n",
              "      <th>156161</th>\n",
              "      <th>156162</th>\n",
              "      <th>157040</th>\n",
              "      <th>145200</th>\n",
              "      <th>145201</th>\n",
              "      <th>166651</th>\n",
              "      <th>1281</th>\n",
              "      <th>65251</th>\n",
              "      <th>65252</th>\n",
              "      <th>71510</th>\n",
              "      <th>71511</th>\n",
              "      <th>...</th>\n",
              "      <th>285092</th>\n",
              "      <th>287992</th>\n",
              "      <th>287990</th>\n",
              "      <th>287991</th>\n",
              "      <th>257240</th>\n",
              "      <th>257242</th>\n",
              "      <th>211260</th>\n",
              "      <th>291941</th>\n",
              "      <th>291942</th>\n",
              "      <th>212781</th>\n",
              "      <th>212782</th>\n",
              "      <th>218412</th>\n",
              "      <th>278370</th>\n",
              "      <th>278371</th>\n",
              "      <th>233210</th>\n",
              "      <th>233211</th>\n",
              "      <th>206120</th>\n",
              "      <th>206121</th>\n",
              "      <th>206122</th>\n",
              "      <th>227032</th>\n",
              "      <th>227031</th>\n",
              "      <th>298600</th>\n",
              "      <th>298601</th>\n",
              "      <th>298602</th>\n",
              "      <th>264752</th>\n",
              "      <th>264750</th>\n",
              "      <th>201121</th>\n",
              "      <th>244912</th>\n",
              "      <th>244910</th>\n",
              "      <th>244911</th>\n",
              "      <th>236752</th>\n",
              "      <th>265471</th>\n",
              "      <th>206180</th>\n",
              "      <th>206181</th>\n",
              "      <th>206182</th>\n",
              "      <th>237780</th>\n",
              "      <th>237781</th>\n",
              "      <th>237782</th>\n",
              "      <th>288361</th>\n",
              "      <th>288362</th>\n",
              "    </tr>\n",
              "  </thead>\n",
              "  <tbody>\n",
              "    <tr>\n",
              "      <th>question</th>\n",
              "      <td>Who looks happier?</td>\n",
              "      <td>Where is the woman sitting?</td>\n",
              "      <td>Where is the man sitting?</td>\n",
              "      <td>Is this man hungry?</td>\n",
              "      <td>Who is holding the football?</td>\n",
              "      <td>Does this woman tie her shoes in the morning?</td>\n",
              "      <td>Is the man eating a hotdog?</td>\n",
              "      <td>What is the predominant color of the room?</td>\n",
              "      <td>Is the cat running?</td>\n",
              "      <td>Do these animals normally hang out together?</td>\n",
              "      <td>Is the mouse under the chair?</td>\n",
              "      <td>Is that a cat on the sofa?</td>\n",
              "      <td>Is there books on the bookshelf?</td>\n",
              "      <td>How many people are in the room?</td>\n",
              "      <td>What color is the dog?</td>\n",
              "      <td>Is little baby trying to walk?</td>\n",
              "      <td>Is there a woman on the couch?</td>\n",
              "      <td>Is the couch sitting against the wall?</td>\n",
              "      <td>Is the man dancing with two turtles?</td>\n",
              "      <td>Is the man afraid of the turtles?</td>\n",
              "      <td>What kind of ball is that?</td>\n",
              "      <td>Is the man playing soccer?</td>\n",
              "      <td>Are they wearing shorts?</td>\n",
              "      <td>How many bushes are in the background?</td>\n",
              "      <td>What is the girl doing?</td>\n",
              "      <td>What is the woman doing outside?</td>\n",
              "      <td>What is on the blanket?</td>\n",
              "      <td>Is the old man happy?</td>\n",
              "      <td>How many slices of watermelon are there?</td>\n",
              "      <td>Who cooked the pie?</td>\n",
              "      <td>Does the dog want the ball?</td>\n",
              "      <td>Does the woman's dentist recommend this dessert?</td>\n",
              "      <td>What color is the bike?</td>\n",
              "      <td>Is the man injured?</td>\n",
              "      <td>How old is young kid?</td>\n",
              "      <td>Is the dog on the rug?</td>\n",
              "      <td>Where is the man sitting?</td>\n",
              "      <td>There is pie for how many people?</td>\n",
              "      <td>What  many pairs of pants are in this scene?</td>\n",
              "      <td>IS the dog going to eat the watermelon?</td>\n",
              "      <td>...</td>\n",
              "      <td>Do they notice the deer?</td>\n",
              "      <td>What color is the dog?</td>\n",
              "      <td>Is it safe for the baby to be this close to th...</td>\n",
              "      <td>What color is the rug?</td>\n",
              "      <td>Are the sofas facing each other?</td>\n",
              "      <td>Is there a fireplace?</td>\n",
              "      <td>Do the squirrels have the park to themselves?</td>\n",
              "      <td>Are  they both sitting on the rug?</td>\n",
              "      <td>Can the robot think?</td>\n",
              "      <td>What kind of wine is being served?</td>\n",
              "      <td>Is there a lot of food?</td>\n",
              "      <td>What color is the fire?</td>\n",
              "      <td>Is the person older the President Obama?</td>\n",
              "      <td>Has this woman injured her leg?</td>\n",
              "      <td>Are the two people holding hands?</td>\n",
              "      <td>Does the cat belong to the couple?</td>\n",
              "      <td>Do all the people in picture have a seat?</td>\n",
              "      <td>Are there enough plates for everyone there?</td>\n",
              "      <td>Are the women wearing heels?</td>\n",
              "      <td>Is he eating?</td>\n",
              "      <td>Is the boy home for a snack?</td>\n",
              "      <td>How many white fabrics are in the picture?</td>\n",
              "      <td>Is the dog trying to climb up on the chair?</td>\n",
              "      <td>Is there a kitten on one of the chairs?</td>\n",
              "      <td>Does his shirt and pants match?</td>\n",
              "      <td>Is he riding a bike?</td>\n",
              "      <td>Is the man sitting too close to the fireplace?</td>\n",
              "      <td>Is the table lower than the plant?</td>\n",
              "      <td>Does the cat want the man?</td>\n",
              "      <td>Are the curtains the same?</td>\n",
              "      <td>How many bicycle re in the picture?</td>\n",
              "      <td>What is the woman standing behind?</td>\n",
              "      <td>What color is her shirt?</td>\n",
              "      <td>What sport can be played?</td>\n",
              "      <td>Is the sky sunny?</td>\n",
              "      <td>What animal is that?</td>\n",
              "      <td>Is there a fire in the fireplace?</td>\n",
              "      <td>How many pillows on the sofa?</td>\n",
              "      <td>How many people are there?</td>\n",
              "      <td>What is on the pillow?</td>\n",
              "    </tr>\n",
              "    <tr>\n",
              "      <th>image_id</th>\n",
              "      <td>11779</td>\n",
              "      <td>11779</td>\n",
              "      <td>11779</td>\n",
              "      <td>5536</td>\n",
              "      <td>16949</td>\n",
              "      <td>16949</td>\n",
              "      <td>6502</td>\n",
              "      <td>3371</td>\n",
              "      <td>8788</td>\n",
              "      <td>8788</td>\n",
              "      <td>8788</td>\n",
              "      <td>10005</td>\n",
              "      <td>10005</td>\n",
              "      <td>1527</td>\n",
              "      <td>1527</td>\n",
              "      <td>2592</td>\n",
              "      <td>2592</td>\n",
              "      <td>2592</td>\n",
              "      <td>12754</td>\n",
              "      <td>12754</td>\n",
              "      <td>10796</td>\n",
              "      <td>10796</td>\n",
              "      <td>10796</td>\n",
              "      <td>15492</td>\n",
              "      <td>15492</td>\n",
              "      <td>1329</td>\n",
              "      <td>1329</td>\n",
              "      <td>14657</td>\n",
              "      <td>15616</td>\n",
              "      <td>15616</td>\n",
              "      <td>15616</td>\n",
              "      <td>15704</td>\n",
              "      <td>14520</td>\n",
              "      <td>14520</td>\n",
              "      <td>16665</td>\n",
              "      <td>128</td>\n",
              "      <td>6525</td>\n",
              "      <td>6525</td>\n",
              "      <td>7151</td>\n",
              "      <td>7151</td>\n",
              "      <td>...</td>\n",
              "      <td>28509</td>\n",
              "      <td>28799</td>\n",
              "      <td>28799</td>\n",
              "      <td>28799</td>\n",
              "      <td>25724</td>\n",
              "      <td>25724</td>\n",
              "      <td>21126</td>\n",
              "      <td>29194</td>\n",
              "      <td>29194</td>\n",
              "      <td>21278</td>\n",
              "      <td>21278</td>\n",
              "      <td>21841</td>\n",
              "      <td>27837</td>\n",
              "      <td>27837</td>\n",
              "      <td>23321</td>\n",
              "      <td>23321</td>\n",
              "      <td>20612</td>\n",
              "      <td>20612</td>\n",
              "      <td>20612</td>\n",
              "      <td>22703</td>\n",
              "      <td>22703</td>\n",
              "      <td>29860</td>\n",
              "      <td>29860</td>\n",
              "      <td>29860</td>\n",
              "      <td>26475</td>\n",
              "      <td>26475</td>\n",
              "      <td>20112</td>\n",
              "      <td>24491</td>\n",
              "      <td>24491</td>\n",
              "      <td>24491</td>\n",
              "      <td>23675</td>\n",
              "      <td>26547</td>\n",
              "      <td>20618</td>\n",
              "      <td>20618</td>\n",
              "      <td>20618</td>\n",
              "      <td>23778</td>\n",
              "      <td>23778</td>\n",
              "      <td>23778</td>\n",
              "      <td>28836</td>\n",
              "      <td>28836</td>\n",
              "    </tr>\n",
              "    <tr>\n",
              "      <th>answer</th>\n",
              "      <td>man</td>\n",
              "      <td>blanket</td>\n",
              "      <td>bench</td>\n",
              "      <td>yes</td>\n",
              "      <td>man</td>\n",
              "      <td>no</td>\n",
              "      <td>yes</td>\n",
              "      <td>brown</td>\n",
              "      <td>no</td>\n",
              "      <td>no</td>\n",
              "      <td>yes</td>\n",
              "      <td>no</td>\n",
              "      <td>no</td>\n",
              "      <td>1</td>\n",
              "      <td>gray</td>\n",
              "      <td>yes</td>\n",
              "      <td>yes</td>\n",
              "      <td>no</td>\n",
              "      <td>yes</td>\n",
              "      <td>no</td>\n",
              "      <td>soccer</td>\n",
              "      <td>yes</td>\n",
              "      <td>no</td>\n",
              "      <td>3</td>\n",
              "      <td>playing</td>\n",
              "      <td>sitting</td>\n",
              "      <td>food</td>\n",
              "      <td>no</td>\n",
              "      <td>2</td>\n",
              "      <td>man</td>\n",
              "      <td>yes</td>\n",
              "      <td>no</td>\n",
              "      <td>orange</td>\n",
              "      <td>no</td>\n",
              "      <td>1</td>\n",
              "      <td>yes</td>\n",
              "      <td>blanket</td>\n",
              "      <td>2</td>\n",
              "      <td>1</td>\n",
              "      <td>no</td>\n",
              "      <td>...</td>\n",
              "      <td>no</td>\n",
              "      <td>gray</td>\n",
              "      <td>no</td>\n",
              "      <td>red</td>\n",
              "      <td>yes</td>\n",
              "      <td>no</td>\n",
              "      <td>yes</td>\n",
              "      <td>yes</td>\n",
              "      <td>no</td>\n",
              "      <td>white</td>\n",
              "      <td>yes</td>\n",
              "      <td>orange</td>\n",
              "      <td>yes</td>\n",
              "      <td>no</td>\n",
              "      <td>yes</td>\n",
              "      <td>yes</td>\n",
              "      <td>no</td>\n",
              "      <td>no</td>\n",
              "      <td>yes</td>\n",
              "      <td>no</td>\n",
              "      <td>yes</td>\n",
              "      <td>2</td>\n",
              "      <td>yes</td>\n",
              "      <td>yes</td>\n",
              "      <td>yes</td>\n",
              "      <td>no</td>\n",
              "      <td>yes</td>\n",
              "      <td>no</td>\n",
              "      <td>yes</td>\n",
              "      <td>no</td>\n",
              "      <td>1</td>\n",
              "      <td>tree</td>\n",
              "      <td>white</td>\n",
              "      <td>baseball</td>\n",
              "      <td>yes</td>\n",
              "      <td>dog</td>\n",
              "      <td>yes</td>\n",
              "      <td>2</td>\n",
              "      <td>0</td>\n",
              "      <td>book</td>\n",
              "    </tr>\n",
              "  </tbody>\n",
              "</table>\n",
              "<p>3 rows × 58832 columns</p>\n",
              "</div>"
            ],
            "text/plain": [
              "                      117792  ...                  288362\n",
              "question  Who looks happier?  ...  What is on the pillow?\n",
              "image_id               11779  ...                   28836\n",
              "answer                   man  ...                    book\n",
              "\n",
              "[3 rows x 58832 columns]"
            ]
          },
          "metadata": {
            "tags": []
          },
          "execution_count": 6
        },
        {
          "output_type": "execute_result",
          "data": {
            "text/html": [
              "<div>\n",
              "<style scoped>\n",
              "    .dataframe tbody tr th:only-of-type {\n",
              "        vertical-align: middle;\n",
              "    }\n",
              "\n",
              "    .dataframe tbody tr th {\n",
              "        vertical-align: top;\n",
              "    }\n",
              "\n",
              "    .dataframe thead th {\n",
              "        text-align: right;\n",
              "    }\n",
              "</style>\n",
              "<table border=\"1\" class=\"dataframe\">\n",
              "  <thead>\n",
              "    <tr style=\"text-align: right;\">\n",
              "      <th></th>\n",
              "      <th>169491</th>\n",
              "      <th>33711</th>\n",
              "      <th>100051</th>\n",
              "      <th>15271</th>\n",
              "      <th>13291</th>\n",
              "      <th>146571</th>\n",
              "      <th>145202</th>\n",
              "      <th>166652</th>\n",
              "      <th>1282</th>\n",
              "      <th>71512</th>\n",
              "      <th>24691</th>\n",
              "      <th>187130</th>\n",
              "      <th>31122</th>\n",
              "      <th>125731</th>\n",
              "      <th>125732</th>\n",
              "      <th>174961</th>\n",
              "      <th>125980</th>\n",
              "      <th>131642</th>\n",
              "      <th>135272</th>\n",
              "      <th>195130</th>\n",
              "      <th>195131</th>\n",
              "      <th>195132</th>\n",
              "      <th>11892</th>\n",
              "      <th>136812</th>\n",
              "      <th>84622</th>\n",
              "      <th>117291</th>\n",
              "      <th>21252</th>\n",
              "      <th>64220</th>\n",
              "      <th>84430</th>\n",
              "      <th>113740</th>\n",
              "      <th>113742</th>\n",
              "      <th>41071</th>\n",
              "      <th>27502</th>\n",
              "      <th>49681</th>\n",
              "      <th>49682</th>\n",
              "      <th>147491</th>\n",
              "      <th>19671</th>\n",
              "      <th>95480</th>\n",
              "      <th>138791</th>\n",
              "      <th>163772</th>\n",
              "      <th>...</th>\n",
              "      <th>291441</th>\n",
              "      <th>209001</th>\n",
              "      <th>265941</th>\n",
              "      <th>230402</th>\n",
              "      <th>291641</th>\n",
              "      <th>239200</th>\n",
              "      <th>212821</th>\n",
              "      <th>270940</th>\n",
              "      <th>223840</th>\n",
              "      <th>223842</th>\n",
              "      <th>273762</th>\n",
              "      <th>271841</th>\n",
              "      <th>243621</th>\n",
              "      <th>229732</th>\n",
              "      <th>233222</th>\n",
              "      <th>242891</th>\n",
              "      <th>204530</th>\n",
              "      <th>245201</th>\n",
              "      <th>272200</th>\n",
              "      <th>245242</th>\n",
              "      <th>233832</th>\n",
              "      <th>233831</th>\n",
              "      <th>274692</th>\n",
              "      <th>214480</th>\n",
              "      <th>233460</th>\n",
              "      <th>225972</th>\n",
              "      <th>217752</th>\n",
              "      <th>261201</th>\n",
              "      <th>255501</th>\n",
              "      <th>204651</th>\n",
              "      <th>242760</th>\n",
              "      <th>288882</th>\n",
              "      <th>282060</th>\n",
              "      <th>212780</th>\n",
              "      <th>243542</th>\n",
              "      <th>278372</th>\n",
              "      <th>264751</th>\n",
              "      <th>236751</th>\n",
              "      <th>265472</th>\n",
              "      <th>218312</th>\n",
              "    </tr>\n",
              "  </thead>\n",
              "  <tbody>\n",
              "    <tr>\n",
              "      <th>question</th>\n",
              "      <td>How is the weather?</td>\n",
              "      <td>What is the woman holding?</td>\n",
              "      <td>How many pillows?</td>\n",
              "      <td>Is the man falling?</td>\n",
              "      <td>How many logs on the grass?</td>\n",
              "      <td>How many mice are crawling?</td>\n",
              "      <td>How many logs in the scene?</td>\n",
              "      <td>Are the children the same ethnicity?</td>\n",
              "      <td>Do they look sad?</td>\n",
              "      <td>Is it daylight?</td>\n",
              "      <td>Does the woman have curly hair?</td>\n",
              "      <td>What color are the trees?</td>\n",
              "      <td>How many deer are under  a tree?</td>\n",
              "      <td>Are there any ducks in the pond?</td>\n",
              "      <td>Are the ducks going to eat the fish?</td>\n",
              "      <td>Are there any fish in the pond?</td>\n",
              "      <td>What color is the ground?</td>\n",
              "      <td>IS the women watching TV?</td>\n",
              "      <td>Are there any dolls in the room for the dollho...</td>\n",
              "      <td>How many turtles are around the pond?</td>\n",
              "      <td>Is the girl all alone?</td>\n",
              "      <td>What sport does she have the equipment to play?</td>\n",
              "      <td>Why would you say this woman is strong?</td>\n",
              "      <td>How many clouds are there?</td>\n",
              "      <td>How many mushrooms are there?</td>\n",
              "      <td>How many windows?</td>\n",
              "      <td>Is the window a rectangle?</td>\n",
              "      <td>Where are the apples?</td>\n",
              "      <td>Does the man have a good heart?</td>\n",
              "      <td>Is the man kicking the dog?</td>\n",
              "      <td>How many cats are there?</td>\n",
              "      <td>Where are the people sitting?</td>\n",
              "      <td>Do they have matching shirts?</td>\n",
              "      <td>How many children?</td>\n",
              "      <td>Is the sun out in the picture on the wall?</td>\n",
              "      <td>Is there  a place to sit?</td>\n",
              "      <td>How many logs are in the fireplace?</td>\n",
              "      <td>What color is the cat?</td>\n",
              "      <td>Was he expecting someone?</td>\n",
              "      <td>How many places to play are there?</td>\n",
              "      <td>...</td>\n",
              "      <td>Is he laughing?</td>\n",
              "      <td>How many pictures are on the wall?</td>\n",
              "      <td>How many logs?</td>\n",
              "      <td>How many clouds in the sky?</td>\n",
              "      <td>Where is the dog?</td>\n",
              "      <td>Is the girl jumping?</td>\n",
              "      <td>Is there a TV?</td>\n",
              "      <td>Is this young man trying to pet a dog?</td>\n",
              "      <td>What color are the chairs?</td>\n",
              "      <td>How many chairs are in the room?</td>\n",
              "      <td>Is the lady in the red shirt hot from the fire?</td>\n",
              "      <td>Is his foot wet?</td>\n",
              "      <td>What is the dog doing in front of the fireplace?</td>\n",
              "      <td>Are they a couple?</td>\n",
              "      <td>Is the puppy playing with the kitten?</td>\n",
              "      <td>What is on TV?</td>\n",
              "      <td>Are there pictures on the wall?</td>\n",
              "      <td>Does she prefer jump rope or soccer?</td>\n",
              "      <td>Is there wood in the fireplace?</td>\n",
              "      <td>Is the sky clear?</td>\n",
              "      <td>Is the cat after the woman for attention?</td>\n",
              "      <td>What color is the cat?</td>\n",
              "      <td>What color is the woman's shirt?</td>\n",
              "      <td>Is that painting your style?</td>\n",
              "      <td>What color is the cat?</td>\n",
              "      <td>How many children are standing?</td>\n",
              "      <td>Do the animals think the woman is Snow White?</td>\n",
              "      <td>How many trees are there?</td>\n",
              "      <td>What color is the moped?</td>\n",
              "      <td>Where is the cheese?</td>\n",
              "      <td>Is it a cloudy day?</td>\n",
              "      <td>Is the TV turned on?</td>\n",
              "      <td>Are there clouds in the sky?</td>\n",
              "      <td>Is this a party?</td>\n",
              "      <td>What color is the dog?</td>\n",
              "      <td>Is there anyone with her?</td>\n",
              "      <td>How many trees are there?</td>\n",
              "      <td>How many turtles are there?</td>\n",
              "      <td>Is the fish in the pond spotted?</td>\n",
              "      <td>What is the portrait of?</td>\n",
              "    </tr>\n",
              "    <tr>\n",
              "      <th>image_id</th>\n",
              "      <td>16949</td>\n",
              "      <td>3371</td>\n",
              "      <td>10005</td>\n",
              "      <td>1527</td>\n",
              "      <td>1329</td>\n",
              "      <td>14657</td>\n",
              "      <td>14520</td>\n",
              "      <td>16665</td>\n",
              "      <td>128</td>\n",
              "      <td>7151</td>\n",
              "      <td>2469</td>\n",
              "      <td>18713</td>\n",
              "      <td>3112</td>\n",
              "      <td>12573</td>\n",
              "      <td>12573</td>\n",
              "      <td>17496</td>\n",
              "      <td>12598</td>\n",
              "      <td>13164</td>\n",
              "      <td>13527</td>\n",
              "      <td>19513</td>\n",
              "      <td>19513</td>\n",
              "      <td>19513</td>\n",
              "      <td>1189</td>\n",
              "      <td>13681</td>\n",
              "      <td>8462</td>\n",
              "      <td>11729</td>\n",
              "      <td>2125</td>\n",
              "      <td>6422</td>\n",
              "      <td>8443</td>\n",
              "      <td>11374</td>\n",
              "      <td>11374</td>\n",
              "      <td>4107</td>\n",
              "      <td>2750</td>\n",
              "      <td>4968</td>\n",
              "      <td>4968</td>\n",
              "      <td>14749</td>\n",
              "      <td>1967</td>\n",
              "      <td>9548</td>\n",
              "      <td>13879</td>\n",
              "      <td>16377</td>\n",
              "      <td>...</td>\n",
              "      <td>29144</td>\n",
              "      <td>20900</td>\n",
              "      <td>26594</td>\n",
              "      <td>23040</td>\n",
              "      <td>29164</td>\n",
              "      <td>23920</td>\n",
              "      <td>21282</td>\n",
              "      <td>27094</td>\n",
              "      <td>22384</td>\n",
              "      <td>22384</td>\n",
              "      <td>27376</td>\n",
              "      <td>27184</td>\n",
              "      <td>24362</td>\n",
              "      <td>22973</td>\n",
              "      <td>23322</td>\n",
              "      <td>24289</td>\n",
              "      <td>20453</td>\n",
              "      <td>24520</td>\n",
              "      <td>27220</td>\n",
              "      <td>24524</td>\n",
              "      <td>23383</td>\n",
              "      <td>23383</td>\n",
              "      <td>27469</td>\n",
              "      <td>21448</td>\n",
              "      <td>23346</td>\n",
              "      <td>22597</td>\n",
              "      <td>21775</td>\n",
              "      <td>26120</td>\n",
              "      <td>25550</td>\n",
              "      <td>20465</td>\n",
              "      <td>24276</td>\n",
              "      <td>28888</td>\n",
              "      <td>28206</td>\n",
              "      <td>21278</td>\n",
              "      <td>24354</td>\n",
              "      <td>27837</td>\n",
              "      <td>26475</td>\n",
              "      <td>23675</td>\n",
              "      <td>26547</td>\n",
              "      <td>21831</td>\n",
              "    </tr>\n",
              "  </tbody>\n",
              "</table>\n",
              "<p>2 rows × 6372 columns</p>\n",
              "</div>"
            ],
            "text/plain": [
              "                       169491  ...                    218312\n",
              "question  How is the weather?  ...  What is the portrait of?\n",
              "image_id                16949  ...                     21831\n",
              "\n",
              "[2 rows x 6372 columns]"
            ]
          },
          "metadata": {
            "tags": []
          },
          "execution_count": 6
        }
      ]
    },
    {
      "cell_type": "markdown",
      "metadata": {
        "id": "EyA6YdEHPBSS"
      },
      "source": [
        "Answers Frequency"
      ]
    },
    {
      "cell_type": "code",
      "metadata": {
        "colab": {
          "base_uri": "https://localhost:8080/",
          "height": 504
        },
        "id": "G8AKDtwIclFp",
        "outputId": "123ed4fa-5374-4787-c630-742923f02be5"
      },
      "source": [
        "classes = {}\r\n",
        "chart = {}\r\n",
        "total = 0\r\n",
        "for i in range(58):\r\n",
        "  count = 0\r\n",
        "  for j in answers:\r\n",
        "    if(j == i):\r\n",
        "      count = count + 1\r\n",
        "  classes[i] = count\r\n",
        "  chart[list(labels_dict.keys())[i]] = count\r\n",
        "  total += count\r\n",
        "\r\n",
        "_ = plt.figure(figsize = (45,18))   \r\n",
        "_ = plt.bar(x = chart.keys(), height = chart.values())\r\n",
        "_ = plt.xticks(rotation=45)"
      ],
      "execution_count": 9,
      "outputs": [
        {
          "output_type": "display_data",
          "data": {
            "image/png": "[encoded data removed]",
            "text/plain": [
              "<Figure size 3240x1296 with 1 Axes>"
            ]
          },
          "metadata": {
            "tags": [],
            "needs_background": "light"
          }
        }
      ]
    },
    {
      "cell_type": "markdown",
      "metadata": {
        "id": "wvMnjRulPJ9m"
      },
      "source": [
        "Compute weights of classes"
      ]
    },
    {
      "cell_type": "code",
      "metadata": {
        "id": "wRQ4Zfjtehsi"
      },
      "source": [
        "class_weight = {}\r\n",
        "\r\n",
        "keys = list(labels_dict)\r\n",
        "for i in range(58):\r\n",
        "  class_weight[labels_dict[keys[i]]] =  math.log(100 * total/classes[i])\r\n"
      ],
      "execution_count": 10,
      "outputs": []
    },
    {
      "cell_type": "code",
      "metadata": {
        "colab": {
          "base_uri": "https://localhost:8080/"
        },
        "id": "5ADaD89lT6Zo",
        "outputId": "2ee6da04-ce15-445c-84c0-21515a332d4a"
      },
      "source": [
        "from tensorflow.keras.preprocessing.text import Tokenizer\n",
        "from tensorflow.keras.preprocessing.sequence import pad_sequences\n",
        "\n",
        "# Create Tokenizer to convert words to integers\n",
        "questions_tokenizer = Tokenizer()\n",
        "questions_tokenizer.fit_on_texts(questions)\n",
        "questions_tokenized = questions_tokenizer.texts_to_sequences(questions)\n",
        "\n",
        "questions_wtoi = questions_tokenizer.word_index\n",
        "print('Total word in question:', len(questions_wtoi))\n",
        "\n",
        "max_questions_length = max(len(sentence) for sentence in questions_tokenized)\n",
        "print('Max length question:', max_questions_length)\n"
      ],
      "execution_count": 11,
      "outputs": [
        {
          "output_type": "stream",
          "text": [
            "Total word in question: 4640\n",
            "Max length question: 21\n"
          ],
          "name": "stdout"
        }
      ]
    },
    {
      "cell_type": "markdown",
      "metadata": {
        "id": "BJmBc5BwP0PJ"
      },
      "source": [
        "## Image Augmentation"
      ]
    },
    {
      "cell_type": "code",
      "metadata": {
        "id": "zP_L_sU1QrFt"
      },
      "source": [
        "!pip install albumentations==0.5.2 > /dev/null\n",
        "#pip freeze | grep albumentations"
      ],
      "execution_count": 12,
      "outputs": []
    },
    {
      "cell_type": "code",
      "metadata": {
        "id": "bvB_AkdMQrUd"
      },
      "source": [
        "import albumentations as A"
      ],
      "execution_count": 13,
      "outputs": []
    },
    {
      "cell_type": "code",
      "metadata": {
        "id": "2C11ONTLQrXE"
      },
      "source": [
        "# Albumentation\n",
        "A_transform = A.Compose([\n",
        "  A.HorizontalFlip(p=0.5),\n",
        "  A.Blur(p=0.2, blur_limit=2),\n",
        "  A.Downscale(scale_min=0.5,scale_max=0.9,p=0.15),\n",
        "  A.GaussNoise(p=0.3),\n",
        "  A.ElasticTransform(p=0.2, alpha=120, sigma=120 * 0.1, alpha_affine=120 * 0.1),\n",
        "  A.Rotate(p=0.4, border_mode=0, limit=40),\n",
        "])"
      ],
      "execution_count": 14,
      "outputs": []
    },
    {
      "cell_type": "markdown",
      "metadata": {
        "id": "qj0i7DmtP70O"
      },
      "source": [
        "## Custom Dataset"
      ]
    },
    {
      "cell_type": "code",
      "metadata": {
        "id": "UmFWtHqEx-UU"
      },
      "source": [
        "from PIL import Image\r\n",
        "import cv2\r\n",
        "from tensorflow.keras.preprocessing.text import Tokenizer\r\n",
        "from tensorflow.keras.preprocessing.sequence import pad_sequences\r\n",
        "\r\n",
        "img_w = 700\r\n",
        "img_h = 400\r\n",
        "max_questions_length = 21\r\n",
        "max_answers_length = 1\r\n",
        "num_classes= 58\r\n",
        "\r\n",
        "class CustomDataset(tf.keras.utils.Sequence):\r\n",
        "\r\n",
        "  \"\"\"\r\n",
        "    CustomDataset inheriting from tf.keras.utils.Sequence.\r\n",
        "\r\n",
        "    3 main methods:\r\n",
        "      - __init__: save dataset params like directory, filenames..\r\n",
        "      - __len__: return the total number of samples in the dataset\r\n",
        "      - __getitem__: return a sample from the dataset\r\n",
        "\r\n",
        "    Note: \r\n",
        "      - the custom dataset return a single sample from the dataset. Then, we use \r\n",
        "        a tf.data.Dataset object to group samples into batches.\r\n",
        "      - in this case we have a different structure of the dataset in memory. \r\n",
        "        We have all the images in the same folder and the training and validation splits\r\n",
        "        are defined in text files.\r\n",
        "\r\n",
        "  \"\"\"\r\n",
        "\r\n",
        "  def __init__(\r\n",
        "    self, dataset_dir,\r\n",
        "    which_subset,\r\n",
        "    img_generator=None,\r\n",
        "    preprocessing_function=None\r\n",
        "  ):\r\n",
        "\r\n",
        "    if which_subset == 'training':\r\n",
        "     subset_filenames = list(train_questions.iloc[1])[int(len(train_questions.iloc[1])*0.15)+1:]\r\n",
        "     #Questions\r\n",
        "     questions = list(train_questions.iloc[0])[int(len(train_questions.iloc[0])*0.15)+1:]\r\n",
        "     #Answers\r\n",
        "     answers = list(train_questions.iloc[2])[int(len(train_questions.iloc[2])*0.15)+1:]\r\n",
        "    elif which_subset == 'validation':\r\n",
        "     subset_filenames = list(train_questions.iloc[1])[:int(len(train_questions.iloc[1])*0.15)]\r\n",
        "     #Questions\r\n",
        "     questions = list(train_questions.iloc[0])[:int(len(train_questions.iloc[0])*0.15)]\r\n",
        "     #Answers\r\n",
        "     answers = list(train_questions.iloc[2])[:int(len(train_questions.iloc[2])*0.15)]\r\n",
        "    elif which_subset == \"test\":\r\n",
        "     subset_filenames = list(test_questions.iloc[1])\r\n",
        "     #Questions\r\n",
        "     questions = list(test_questions.iloc[0])\r\n",
        "     #Answers\r\n",
        "     #answers = list(test_questions.iloc[2])\r\n",
        "  \r\n",
        "\r\n",
        "    # Create Tokenizer to convert words to integers\r\n",
        "    questions_tokenizer = Tokenizer()\r\n",
        "    questions_tokenizer.fit_on_texts(list(train_questions.iloc[0]))\r\n",
        "    questions_tokenized = questions_tokenizer.texts_to_sequences(questions)\r\n",
        "    len(questions_tokenized)\r\n",
        "\r\n",
        "    #If dataset is training set or validation set, trasform answer into label\r\n",
        "    if(which_subset != 'test'):\r\n",
        "      for i in range(len(answers)):\r\n",
        "       answers[i] = labels_dict[answers[i]]\r\n",
        "    else:\r\n",
        "      answers = [] \r\n",
        "    \r\n",
        "\r\n",
        "    questions_encoder_inputs = pad_sequences(questions_tokenized, maxlen=max_questions_length)\r\n",
        "   \r\n",
        "\r\n",
        "    self.which_subset = which_subset\r\n",
        "    self.dataset_dir = dataset_dir\r\n",
        "    self.subset_filenames = subset_filenames\r\n",
        "    self.questions = questions_encoder_inputs\r\n",
        "    self.answers=answers\r\n",
        "    self.img_generator = img_generator\r\n",
        "    self.preprocessing_function = preprocessing_function\r\n",
        "    self.question_tokenizer = questions_tokenizer\r\n",
        "\r\n",
        "  def __len__(self):\r\n",
        "    return len(self.questions)\r\n",
        "\r\n",
        "  def get_questions_tokenizer(self):\r\n",
        "    return self.question_tokenizer\r\n",
        "\r\n",
        "\r\n",
        "  def __getitem__(self, index):\r\n",
        "    # Read Image\r\n",
        "    curr_filename = self.subset_filenames[index]\r\n",
        "    curr_question = (self.questions[index])\r\n",
        "    if(self.which_subset != 'test'):\r\n",
        "      curr_answer = (self.answers[index])\r\n",
        "\r\n",
        "      zer = np.zeros((num_classes,),dtype=float)\r\n",
        "      zer[curr_answer] = 1 \r\n",
        "\r\n",
        "    img = cv2.imread(os.path.join(self.dataset_dir, 'Images/', curr_filename + '.png'))\r\n",
        "\r\n",
        "    \r\n",
        "\r\n",
        "   # img = Image.open(os.path.join(self.dataset_dir, 'Images/', curr_filename + '.png'))\r\n",
        "   # print(curr_filename)\r\n",
        "    \r\n",
        "\r\n",
        "\r\n",
        "    # Resize image and mask\r\n",
        "    img = cv2.resize(img, (int(700/2),int(400/2)))\r\n",
        "    img = cv2.cvtColor(img, cv2.COLOR_BGR2RGB)\r\n",
        "    #img = img.resize((700,400))\r\n",
        "    img_arr = np.array(img)\r\n",
        "\r\n",
        "    if(self.which_subset == \"training\"):\r\n",
        "      # img_t = self.img_generator.get_random_transform(img_arr.shape, seed=SEED)\r\n",
        "      # img_arr = self.img_generator.apply_transform(img_arr, img_t)\r\n",
        "      transformed = self.img_generator(image=img_arr)\r\n",
        "      img_arr = transformed[\"image\"]\r\n",
        "\r\n",
        "    if(self.which_subset == 'test'):\r\n",
        "      return (curr_question,  img_arr)\r\n",
        "\r\n",
        "    return (curr_question,  img_arr), zer"
      ],
      "execution_count": 17,
      "outputs": []
    },
    {
      "cell_type": "code",
      "metadata": {
        "id": "4UmkPKRe2DpB"
      },
      "source": [
        "dataset = CustomDataset(\"/content/VQA_Dataset\", 'training', img_generator=A_transform) #preprocessing_function=preprocess_input\r\n",
        "dataset_valid = CustomDataset(\"/content/VQA_Dataset\", 'validation') #preprocessing_function=preprocess_input\r\n",
        "dataset_test = CustomDataset(\"/content/VQA_Dataset\", 'test' )"
      ],
      "execution_count": 18,
      "outputs": []
    },
    {
      "cell_type": "code",
      "metadata": {
        "id": "wNJpXG_v2kei"
      },
      "source": [
        "train_dataset = tf.data.Dataset.from_generator(lambda: dataset,\r\n",
        "                                               output_types=((tf.int32, tf.float32), tf.int32),\r\n",
        "                                               output_shapes=(([max_questions_length], [int(img_h/2), int(img_w/2), 3]), [num_classes]))\r\n",
        "\r\n",
        "train_dataset = train_dataset.batch(32)\r\n",
        "\r\n",
        "train_dataset = train_dataset.repeat()\r\n",
        "\r\n",
        "\r\n",
        "\r\n",
        "valid_dataset = tf.data.Dataset.from_generator(lambda: dataset_valid,\r\n",
        "                                               output_types=(( tf.int32, tf.float32), tf.int32),\r\n",
        "                                               output_shapes=(([max_questions_length], [int(img_h/2), int(img_w/2), 3]), [num_classes]))\r\n",
        "\r\n",
        "valid_dataset = valid_dataset.batch(1)\r\n",
        "\r\n",
        "valid_dataset = valid_dataset.repeat()\r\n",
        "\r\n",
        "test_dataset = tf.data.Dataset.from_generator(lambda: dataset_test,\r\n",
        "                                               output_types=(( tf.int32, tf.float32)),\r\n",
        "                                               output_shapes=(([max_questions_length], [int(img_h/2), int(img_w/2), 3])))\r\n",
        "test_dataset = test_dataset.batch(1)\r\n",
        "test_dataset = test_dataset.repeat()"
      ],
      "execution_count": 19,
      "outputs": []
    },
    {
      "cell_type": "markdown",
      "metadata": {
        "id": "jNgyocOwQJpG"
      },
      "source": [
        "## Plot"
      ]
    },
    {
      "cell_type": "code",
      "metadata": {
        "id": "gB5MeKE537-x"
      },
      "source": [
        "# Let's test data generator\r\n",
        "# -------------------------\r\n",
        "import time\r\n",
        "from matplotlib import cm\r\n",
        "import matplotlib.pyplot as plt\r\n",
        "\r\n",
        "%matplotlib inline\r\n",
        "\r\n",
        "iterator = iter(train_dataset)"
      ],
      "execution_count": 20,
      "outputs": []
    },
    {
      "cell_type": "code",
      "metadata": {
        "colab": {
          "base_uri": "https://localhost:8080/",
          "height": 388
        },
        "id": "uDKJO7kA4GAX",
        "outputId": "57d6905f-642e-4914-ad1d-de9bd884aa50"
      },
      "source": [
        "fig, ax = plt.subplots(1, 1, figsize=(10,10))\r\n",
        "\r\n",
        "augmented_img_question, answer = next(iterator)\r\n",
        "augmented_img = augmented_img_question[1][0]   # First element\r\n",
        "augmented_img = augmented_img  # denormalize\r\n",
        "\r\n",
        "\r\n",
        "ax.imshow(np.uint8(augmented_img))\r\n",
        "# augmented_img_question[0]\r\n",
        "dataset.get_questions_tokenizer().sequences_to_texts([augmented_img_question[0][0].numpy().tolist()])\r\n",
        "key_list = list(labels_dict.keys())\r\n",
        "val_list = list(labels_dict.values())\r\n",
        "key_list[val_list.index(tf.keras.backend.get_value(tf.argmax(answer[0], axis=0)))]\r\n",
        "plt.show()"
      ],
      "execution_count": 21,
      "outputs": [
        {
          "output_type": "execute_result",
          "data": {
            "text/plain": [
              "<matplotlib.image.AxesImage at 0x7f36643a2278>"
            ]
          },
          "metadata": {
            "tags": []
          },
          "execution_count": 21
        },
        {
          "output_type": "execute_result",
          "data": {
            "text/plain": [
              "['is there a robot on one of the shelves']"
            ]
          },
          "metadata": {
            "tags": []
          },
          "execution_count": 21
        },
        {
          "output_type": "execute_result",
          "data": {
            "application/vnd.google.colaboratory.intrinsic+json": {
              "type": "string"
            },
            "text/plain": [
              "'yes'"
            ]
          },
          "metadata": {
            "tags": []
          },
          "execution_count": 21
        },
        {
          "output_type": "display_data",
          "data": {
            "image/png": "[encoded data removed]",
            "text/plain": [
              "<Figure size 720x720 with 1 Axes>"
            ]
          },
          "metadata": {
            "tags": [],
            "needs_background": "light"
          }
        }
      ]
    },
    {
      "cell_type": "markdown",
      "metadata": {
        "id": "Fyx28iuHT6Zp"
      },
      "source": [
        "# **Model**"
      ]
    },
    {
      "cell_type": "code",
      "metadata": {
        "colab": {
          "base_uri": "https://localhost:8080/"
        },
        "id": "v4SYvOG0sZ8M",
        "outputId": "17d1238d-b707-4a8e-c29b-c05e7a95aaca"
      },
      "source": [
        "# Creating Model\r\n",
        "# --------------\r\n",
        "EMBEDDING_SIZE = 256\r\n",
        "num_classes = 58\r\n",
        "max_questions_length = 21\r\n",
        "\r\n",
        "# Question part model\r\n",
        "\r\n",
        "encoder_input = tf.keras.Input(shape=[max_questions_length])\r\n",
        "encoder_embedding_layer = tf.keras.layers.Embedding(input_dim = len(questions_wtoi)+1, output_dim = 512, input_length=max_questions_length, mask_zero=True)(encoder_input)\r\n",
        "encoded_question = tf.keras.layers.Bidirectional(tf.keras.layers.LSTM(EMBEDDING_SIZE, unroll=True, recurrent_dropout=0.3,activation=\"relu\"))(encoder_embedding_layer)\r\n",
        "\r\n",
        "\r\n",
        "\r\n",
        "# CNN part\r\n",
        "\r\n",
        "model_img = tf.keras.models.Sequential()\r\n",
        "xception = tf.keras.applications.Xception(include_top=False, weights=\"imagenet\", input_shape=[200,350, 3])\r\n",
        "\r\n",
        "finetuning = True\r\n",
        "\r\n",
        "if finetuning:\r\n",
        "  freeze_until = 20 # layer from which we want to fine-tune\r\n",
        "\r\n",
        "for layer in xception.layers:\r\n",
        " layer.trainable = False\r\n",
        "\r\n",
        "for layer in xception.layers[:freeze_until]:\r\n",
        "  layer.trainable = True\r\n",
        "\r\n",
        "model_img.add(xception)\r\n",
        "model_img.add(tf.keras.layers.Flatten())\r\n",
        "model_img.add(tf.keras.layers.Dense(EMBEDDING_SIZE, activation=\"relu\"))\r\n",
        "model_img.add(tf.keras.layers.Dropout(0.3))\r\n",
        "\r\n",
        "image_input = tf.keras.Input(shape=[200,350, 3])\r\n",
        "out_image = model_img(image_input)\r\n",
        "\r\n",
        "\r\n",
        "vqa_model_mul = tf.keras.layers.concatenate(inputs = [out_image, encoded_question])\r\n",
        "vqa_model_fc = tf.keras.layers.Dense(128, activation=\"relu\")(vqa_model_mul)\r\n",
        "vqa_model_out = tf.keras.layers.Dense(num_classes, activation=\"softmax\")(vqa_model_fc)\r\n",
        "\r\n",
        "\r\n",
        "model = tf.keras.Model(inputs =  [encoder_input, image_input], outputs = vqa_model_out)"
      ],
      "execution_count": 22,
      "outputs": [
        {
          "output_type": "stream",
          "text": [
            "WARNING:tensorflow:Layer lstm will not use cuDNN kernel since it doesn't meet the cuDNN kernel criteria. It will use generic GPU kernel as fallback when running on GPU\n",
            "WARNING:tensorflow:Layer lstm will not use cuDNN kernel since it doesn't meet the cuDNN kernel criteria. It will use generic GPU kernel as fallback when running on GPU\n",
            "WARNING:tensorflow:Layer lstm will not use cuDNN kernel since it doesn't meet the cuDNN kernel criteria. It will use generic GPU kernel as fallback when running on GPU\n",
            "Downloading data from https://storage.googleapis.com/tensorflow/keras-applications/xception/xception_weights_tf_dim_ordering_tf_kernels_notop.h5\n",
            "83689472/83683744 [==============================] - 0s 0us/step\n"
          ],
          "name": "stdout"
        }
      ]
    },
    {
      "cell_type": "code",
      "metadata": {
        "colab": {
          "base_uri": "https://localhost:8080/"
        },
        "id": "JnVrez6grYZr",
        "outputId": "e103af97-e745-4be8-dabf-900f39805c73"
      },
      "source": [
        "model.summary()"
      ],
      "execution_count": 23,
      "outputs": [
        {
          "output_type": "stream",
          "text": [
            "Model: \"model\"\n",
            "__________________________________________________________________________________________________\n",
            "Layer (type)                    Output Shape         Param #     Connected to                     \n",
            "==================================================================================================\n",
            "input_1 (InputLayer)            [(None, 21)]         0                                            \n",
            "__________________________________________________________________________________________________\n",
            "input_3 (InputLayer)            [(None, 200, 350, 3) 0                                            \n",
            "__________________________________________________________________________________________________\n",
            "embedding (Embedding)           (None, 21, 512)      2376192     input_1[0][0]                    \n",
            "__________________________________________________________________________________________________\n",
            "sequential (Sequential)         (None, 256)          61231912    input_3[0][0]                    \n",
            "__________________________________________________________________________________________________\n",
            "bidirectional (Bidirectional)   (None, 512)          1574912     embedding[0][0]                  \n",
            "__________________________________________________________________________________________________\n",
            "concatenate (Concatenate)       (None, 768)          0           sequential[0][0]                 \n",
            "                                                                 bidirectional[0][0]              \n",
            "__________________________________________________________________________________________________\n",
            "dense_1 (Dense)                 (None, 128)          98432       concatenate[0][0]                \n",
            "__________________________________________________________________________________________________\n",
            "dense_2 (Dense)                 (None, 58)           7482        dense_1[0][0]                    \n",
            "==================================================================================================\n",
            "Total params: 65,288,930\n",
            "Trainable params: 44,516,634\n",
            "Non-trainable params: 20,772,296\n",
            "__________________________________________________________________________________________________\n"
          ],
          "name": "stdout"
        }
      ]
    },
    {
      "cell_type": "markdown",
      "metadata": {
        "id": "e0_qRdk5QV3H"
      },
      "source": [
        "# **Fit**"
      ]
    },
    {
      "cell_type": "code",
      "metadata": {
        "id": "E_ihm4kvT6Zp"
      },
      "source": [
        "# Loss\n",
        "loss = tf.keras.losses.CategoricalCrossentropy()\n",
        "\n",
        "# learning rate\n",
        "lr = 1e-4\n",
        "optimizer = tf.keras.optimizers.Adam(learning_rate=lr)\n",
        "# -------------------\n",
        "\n",
        "# Validation metrics\n",
        "# ------------------\n",
        "\n",
        "metrics = ['accuracy']\n",
        "# ------------------\n",
        "\n",
        "# Compile Model\n",
        "model.compile(optimizer=optimizer, loss=loss, metrics=metrics)"
      ],
      "execution_count": null,
      "outputs": []
    },
    {
      "cell_type": "code",
      "metadata": {
        "id": "Rte_glPwulKc"
      },
      "source": [
        "load = False\r\n",
        "\r\n",
        "if load:\r\n",
        "  model.load_weights('/path/to/checkpoint')"
      ],
      "execution_count": null,
      "outputs": []
    },
    {
      "cell_type": "code",
      "metadata": {
        "colab": {
          "base_uri": "https://localhost:8080/",
          "height": 1000
        },
        "id": "AlbGCZQUT6Zp",
        "outputId": "9f76c6d1-852a-4d21-acaf-2961d0d5d628"
      },
      "source": [
        "import os\n",
        "from datetime import datetime\n",
        "\n",
        "cwd = os.getcwd()\n",
        "\n",
        "exps_dir = os.path.join('/content/drive/My Drive/KerasRNN', 'VQA')\n",
        "if not os.path.exists(exps_dir):\n",
        "    os.makedirs(exps_dir)\n",
        "\n",
        "now = datetime.now().strftime('%b%d_%H-%M-%S')\n",
        "\n",
        "exp_name = 'exp'\n",
        "\n",
        "exp_dir = os.path.join(exps_dir, exp_name + '_' + str(now))\n",
        "if not os.path.exists(exp_dir):\n",
        "    os.makedirs(exp_dir)\n",
        "    \n",
        "callbacks = []\n",
        "\n",
        "# Model checkpoint\n",
        "# ----------------\n",
        "ckpt_dir = os.path.join(exp_dir, 'ckpts')\n",
        "if not os.path.exists(ckpt_dir):\n",
        "    os.makedirs(ckpt_dir)\n",
        "\n",
        "ckpt_callback = tf.keras.callbacks.ModelCheckpoint(filepath=os.path.join(ckpt_dir, 'cp_{epoch:02d}.ckpt'), \n",
        "                                                   save_weights_only=True)  # False to save the model directly\n",
        "callbacks.append(ckpt_callback)\n",
        "\n",
        "# ----------------\n",
        "\n",
        "# Visualize Learning on Tensorboard\n",
        "# ---------------------------------\n",
        "tb_dir = os.path.join(exp_dir, 'tb_logs')\n",
        "if not os.path.exists(tb_dir):\n",
        "    os.makedirs(tb_dir)\n",
        "    \n",
        "# By default shows losses and metrics for both training and validation\n",
        "#tb_callback = tf.keras.callbacks.TensorBoard(log_dir=tb_dir,\n",
        "#                                             profile_batch=0,\n",
        "#                                             histogram_freq=1)  # if 1 shows weights histograms\n",
        "#callbacks.append(tb_callback)\n",
        "\n",
        "# Early Stopping\n",
        "# --------------\n",
        "early_stop = True\n",
        "if early_stop:\n",
        "    es_callback = tf.keras.callbacks.EarlyStopping(monitor='val_loss', patience=7)\n",
        "    callbacks.append(es_callback)\n",
        "\n",
        "# ---------------------------------\n",
        "\n",
        "\n",
        "model.fit(train_dataset, \n",
        "          epochs=40,\n",
        "          steps_per_epoch= len(dataset)/32,\n",
        "          batch_size = 32,\n",
        "          class_weight = class_weight,\n",
        "          validation_data=valid_dataset,\n",
        "          validation_steps= len(dataset_valid),\n",
        "          shuffle = True,\n",
        "          callbacks = callbacks)\n",
        "# How to visualize Tensorboard\n",
        "\n",
        "# 1. tensorboard --logdir EXPERIMENTS_DIR --port PORT     <- from terminal\n",
        "# 2. localhost:PORT   <- in your browser"
      ],
      "execution_count": null,
      "outputs": [
        {
          "output_type": "stream",
          "text": [
            "Epoch 1/40\n",
            "1562/1562 [==============================] - 1694s 1s/step - loss: 19.9571 - accuracy: 0.3506 - val_loss: 1.5407 - val_accuracy: 0.4422\n",
            "Epoch 2/40\n",
            "1562/1562 [==============================] - 1629s 1s/step - loss: 13.0776 - accuracy: 0.4421 - val_loss: 1.3809 - val_accuracy: 0.4720\n",
            "Epoch 3/40\n",
            "1562/1562 [==============================] - 1618s 1s/step - loss: 11.3316 - accuracy: 0.5046 - val_loss: 1.2644 - val_accuracy: 0.5071\n",
            "Epoch 4/40\n",
            "1562/1562 [==============================] - 1586s 1s/step - loss: 10.2496 - accuracy: 0.5433 - val_loss: 1.1808 - val_accuracy: 0.5406\n",
            "Epoch 5/40\n",
            "1562/1562 [==============================] - 1562s 999ms/step - loss: 9.3604 - accuracy: 0.5693 - val_loss: 1.1006 - val_accuracy: 0.5614\n",
            "Epoch 6/40\n",
            "1562/1562 [==============================] - 1598s 1s/step - loss: 8.6812 - accuracy: 0.5909 - val_loss: 1.0688 - val_accuracy: 0.5690\n",
            "Epoch 7/40\n",
            "1562/1562 [==============================] - 1604s 1s/step - loss: 8.1866 - accuracy: 0.6039 - val_loss: 1.0350 - val_accuracy: 0.5786\n",
            "Epoch 8/40\n",
            "1562/1562 [==============================] - 1585s 1s/step - loss: 7.7857 - accuracy: 0.6221 - val_loss: 1.0163 - val_accuracy: 0.5885\n",
            "Epoch 9/40\n",
            "1562/1562 [==============================] - 1539s 985ms/step - loss: 7.4725 - accuracy: 0.6315 - val_loss: 0.9999 - val_accuracy: 0.5925\n",
            "Epoch 10/40\n",
            "1562/1562 [==============================] - 1546s 989ms/step - loss: 7.1851 - accuracy: 0.6427 - val_loss: 0.9910 - val_accuracy: 0.5976\n",
            "Epoch 11/40\n",
            "1562/1562 [==============================] - 1579s 1s/step - loss: 6.9699 - accuracy: 0.6530 - val_loss: 0.9848 - val_accuracy: 0.5996\n",
            "Epoch 12/40\n",
            "1562/1562 [==============================] - 1588s 1s/step - loss: 6.7788 - accuracy: 0.6578 - val_loss: 0.9756 - val_accuracy: 0.6061\n",
            "Epoch 13/40\n",
            "1562/1562 [==============================] - 1647s 1s/step - loss: 6.5775 - accuracy: 0.6644 - val_loss: 0.9726 - val_accuracy: 0.6095\n",
            "Epoch 14/40\n",
            "1562/1562 [==============================] - 1614s 1s/step - loss: 6.3983 - accuracy: 0.6760 - val_loss: 0.9750 - val_accuracy: 0.6099\n",
            "Epoch 15/40\n",
            "1562/1562 [==============================] - 1616s 1s/step - loss: 6.2602 - accuracy: 0.6784 - val_loss: 0.9743 - val_accuracy: 0.6120\n",
            "Epoch 16/40\n",
            "1562/1562 [==============================] - 1575s 1s/step - loss: 6.1351 - accuracy: 0.6873 - val_loss: 0.9744 - val_accuracy: 0.6094\n",
            "Epoch 17/40\n",
            "1562/1562 [==============================] - 1552s 993ms/step - loss: 6.0176 - accuracy: 0.6901 - val_loss: 0.9724 - val_accuracy: 0.6158\n",
            "Epoch 18/40\n",
            "1562/1562 [==============================] - 1512s 968ms/step - loss: 5.8655 - accuracy: 0.7003 - val_loss: 0.9746 - val_accuracy: 0.6193\n",
            "Epoch 19/40\n",
            "1562/1562 [==============================] - 1458s 933ms/step - loss: 5.7728 - accuracy: 0.7018 - val_loss: 0.9861 - val_accuracy: 0.6190\n",
            "Epoch 20/40\n",
            "1562/1562 [==============================] - 1580s 1s/step - loss: 5.6827 - accuracy: 0.7037 - val_loss: 0.9859 - val_accuracy: 0.6188\n",
            "Epoch 21/40\n",
            "1562/1562 [==============================] - 1658s 1s/step - loss: 5.6029 - accuracy: 0.7091 - val_loss: 0.9950 - val_accuracy: 0.6201\n",
            "Epoch 22/40\n",
            "1562/1562 [==============================] - 1655s 1s/step - loss: 5.5031 - accuracy: 0.7145 - val_loss: 1.0004 - val_accuracy: 0.6252\n",
            "Epoch 23/40\n",
            "1562/1562 [==============================] - 1629s 1s/step - loss: 5.3928 - accuracy: 0.7189 - val_loss: 1.0081 - val_accuracy: 0.6233\n",
            "Epoch 24/40\n",
            "  12/1562 [..............................] - ETA: 21:59 - loss: 5.0782 - accuracy: 0.7281"
          ],
          "name": "stdout"
        },
        {
          "output_type": "error",
          "ename": "KeyboardInterrupt",
          "evalue": "ignored",
          "traceback": [
            "\u001b[0;31m---------------------------------------------------------------------------\u001b[0m",
            "\u001b[0;31mKeyboardInterrupt\u001b[0m                         Traceback (most recent call last)",
            "\u001b[0;32m<ipython-input-124-8a5c078f2bda>\u001b[0m in \u001b[0;36m<module>\u001b[0;34m()\u001b[0m\n\u001b[1;32m     60\u001b[0m           \u001b[0mvalidation_steps\u001b[0m\u001b[0;34m=\u001b[0m \u001b[0;36m8824\u001b[0m\u001b[0;34m,\u001b[0m\u001b[0;34m\u001b[0m\u001b[0;34m\u001b[0m\u001b[0m\n\u001b[1;32m     61\u001b[0m           \u001b[0mshuffle\u001b[0m \u001b[0;34m=\u001b[0m \u001b[0;32mTrue\u001b[0m\u001b[0;34m,\u001b[0m\u001b[0;34m\u001b[0m\u001b[0;34m\u001b[0m\u001b[0m\n\u001b[0;32m---> 62\u001b[0;31m           callbacks = callbacks)\n\u001b[0m\u001b[1;32m     63\u001b[0m \u001b[0;31m# How to visualize Tensorboard\u001b[0m\u001b[0;34m\u001b[0m\u001b[0;34m\u001b[0m\u001b[0;34m\u001b[0m\u001b[0m\n\u001b[1;32m     64\u001b[0m \u001b[0;34m\u001b[0m\u001b[0m\n",
            "\u001b[0;32m/usr/local/lib/python3.6/dist-packages/tensorflow/python/keras/engine/training.py\u001b[0m in \u001b[0;36mfit\u001b[0;34m(self, x, y, batch_size, epochs, verbose, callbacks, validation_split, validation_data, shuffle, class_weight, sample_weight, initial_epoch, steps_per_epoch, validation_steps, validation_batch_size, validation_freq, max_queue_size, workers, use_multiprocessing)\u001b[0m\n\u001b[1;32m   1098\u001b[0m                 _r=1):\n\u001b[1;32m   1099\u001b[0m               \u001b[0mcallbacks\u001b[0m\u001b[0;34m.\u001b[0m\u001b[0mon_train_batch_begin\u001b[0m\u001b[0;34m(\u001b[0m\u001b[0mstep\u001b[0m\u001b[0;34m)\u001b[0m\u001b[0;34m\u001b[0m\u001b[0;34m\u001b[0m\u001b[0m\n\u001b[0;32m-> 1100\u001b[0;31m               \u001b[0mtmp_logs\u001b[0m \u001b[0;34m=\u001b[0m \u001b[0mself\u001b[0m\u001b[0;34m.\u001b[0m\u001b[0mtrain_function\u001b[0m\u001b[0;34m(\u001b[0m\u001b[0miterator\u001b[0m\u001b[0;34m)\u001b[0m\u001b[0;34m\u001b[0m\u001b[0;34m\u001b[0m\u001b[0m\n\u001b[0m\u001b[1;32m   1101\u001b[0m               \u001b[0;32mif\u001b[0m \u001b[0mdata_handler\u001b[0m\u001b[0;34m.\u001b[0m\u001b[0mshould_sync\u001b[0m\u001b[0;34m:\u001b[0m\u001b[0;34m\u001b[0m\u001b[0;34m\u001b[0m\u001b[0m\n\u001b[1;32m   1102\u001b[0m                 \u001b[0mcontext\u001b[0m\u001b[0;34m.\u001b[0m\u001b[0masync_wait\u001b[0m\u001b[0;34m(\u001b[0m\u001b[0;34m)\u001b[0m\u001b[0;34m\u001b[0m\u001b[0;34m\u001b[0m\u001b[0m\n",
            "\u001b[0;32m/usr/local/lib/python3.6/dist-packages/tensorflow/python/eager/def_function.py\u001b[0m in \u001b[0;36m__call__\u001b[0;34m(self, *args, **kwds)\u001b[0m\n\u001b[1;32m    826\u001b[0m     \u001b[0mtracing_count\u001b[0m \u001b[0;34m=\u001b[0m \u001b[0mself\u001b[0m\u001b[0;34m.\u001b[0m\u001b[0mexperimental_get_tracing_count\u001b[0m\u001b[0;34m(\u001b[0m\u001b[0;34m)\u001b[0m\u001b[0;34m\u001b[0m\u001b[0;34m\u001b[0m\u001b[0m\n\u001b[1;32m    827\u001b[0m     \u001b[0;32mwith\u001b[0m \u001b[0mtrace\u001b[0m\u001b[0;34m.\u001b[0m\u001b[0mTrace\u001b[0m\u001b[0;34m(\u001b[0m\u001b[0mself\u001b[0m\u001b[0;34m.\u001b[0m\u001b[0m_name\u001b[0m\u001b[0;34m)\u001b[0m \u001b[0;32mas\u001b[0m \u001b[0mtm\u001b[0m\u001b[0;34m:\u001b[0m\u001b[0;34m\u001b[0m\u001b[0;34m\u001b[0m\u001b[0m\n\u001b[0;32m--> 828\u001b[0;31m       \u001b[0mresult\u001b[0m \u001b[0;34m=\u001b[0m \u001b[0mself\u001b[0m\u001b[0;34m.\u001b[0m\u001b[0m_call\u001b[0m\u001b[0;34m(\u001b[0m\u001b[0;34m*\u001b[0m\u001b[0margs\u001b[0m\u001b[0;34m,\u001b[0m \u001b[0;34m**\u001b[0m\u001b[0mkwds\u001b[0m\u001b[0;34m)\u001b[0m\u001b[0;34m\u001b[0m\u001b[0;34m\u001b[0m\u001b[0m\n\u001b[0m\u001b[1;32m    829\u001b[0m       \u001b[0mcompiler\u001b[0m \u001b[0;34m=\u001b[0m \u001b[0;34m\"xla\"\u001b[0m \u001b[0;32mif\u001b[0m \u001b[0mself\u001b[0m\u001b[0;34m.\u001b[0m\u001b[0m_experimental_compile\u001b[0m \u001b[0;32melse\u001b[0m \u001b[0;34m\"nonXla\"\u001b[0m\u001b[0;34m\u001b[0m\u001b[0;34m\u001b[0m\u001b[0m\n\u001b[1;32m    830\u001b[0m       \u001b[0mnew_tracing_count\u001b[0m \u001b[0;34m=\u001b[0m \u001b[0mself\u001b[0m\u001b[0;34m.\u001b[0m\u001b[0mexperimental_get_tracing_count\u001b[0m\u001b[0;34m(\u001b[0m\u001b[0;34m)\u001b[0m\u001b[0;34m\u001b[0m\u001b[0;34m\u001b[0m\u001b[0m\n",
            "\u001b[0;32m/usr/local/lib/python3.6/dist-packages/tensorflow/python/eager/def_function.py\u001b[0m in \u001b[0;36m_call\u001b[0;34m(self, *args, **kwds)\u001b[0m\n\u001b[1;32m    853\u001b[0m       \u001b[0;31m# In this case we have created variables on the first call, so we run the\u001b[0m\u001b[0;34m\u001b[0m\u001b[0;34m\u001b[0m\u001b[0;34m\u001b[0m\u001b[0m\n\u001b[1;32m    854\u001b[0m       \u001b[0;31m# defunned version which is guaranteed to never create variables.\u001b[0m\u001b[0;34m\u001b[0m\u001b[0;34m\u001b[0m\u001b[0;34m\u001b[0m\u001b[0m\n\u001b[0;32m--> 855\u001b[0;31m       \u001b[0;32mreturn\u001b[0m \u001b[0mself\u001b[0m\u001b[0;34m.\u001b[0m\u001b[0m_stateless_fn\u001b[0m\u001b[0;34m(\u001b[0m\u001b[0;34m*\u001b[0m\u001b[0margs\u001b[0m\u001b[0;34m,\u001b[0m \u001b[0;34m**\u001b[0m\u001b[0mkwds\u001b[0m\u001b[0;34m)\u001b[0m  \u001b[0;31m# pylint: disable=not-callable\u001b[0m\u001b[0;34m\u001b[0m\u001b[0;34m\u001b[0m\u001b[0m\n\u001b[0m\u001b[1;32m    856\u001b[0m     \u001b[0;32melif\u001b[0m \u001b[0mself\u001b[0m\u001b[0;34m.\u001b[0m\u001b[0m_stateful_fn\u001b[0m \u001b[0;32mis\u001b[0m \u001b[0;32mnot\u001b[0m \u001b[0;32mNone\u001b[0m\u001b[0;34m:\u001b[0m\u001b[0;34m\u001b[0m\u001b[0;34m\u001b[0m\u001b[0m\n\u001b[1;32m    857\u001b[0m       \u001b[0;31m# Release the lock early so that multiple threads can perform the call\u001b[0m\u001b[0;34m\u001b[0m\u001b[0;34m\u001b[0m\u001b[0;34m\u001b[0m\u001b[0m\n",
            "\u001b[0;32m/usr/local/lib/python3.6/dist-packages/tensorflow/python/eager/function.py\u001b[0m in \u001b[0;36m__call__\u001b[0;34m(self, *args, **kwargs)\u001b[0m\n\u001b[1;32m   2941\u001b[0m        filtered_flat_args) = self._maybe_define_function(args, kwargs)\n\u001b[1;32m   2942\u001b[0m     return graph_function._call_flat(\n\u001b[0;32m-> 2943\u001b[0;31m         filtered_flat_args, captured_inputs=graph_function.captured_inputs)  # pylint: disable=protected-access\n\u001b[0m\u001b[1;32m   2944\u001b[0m \u001b[0;34m\u001b[0m\u001b[0m\n\u001b[1;32m   2945\u001b[0m   \u001b[0;34m@\u001b[0m\u001b[0mproperty\u001b[0m\u001b[0;34m\u001b[0m\u001b[0;34m\u001b[0m\u001b[0m\n",
            "\u001b[0;32m/usr/local/lib/python3.6/dist-packages/tensorflow/python/eager/function.py\u001b[0m in \u001b[0;36m_call_flat\u001b[0;34m(self, args, captured_inputs, cancellation_manager)\u001b[0m\n\u001b[1;32m   1917\u001b[0m       \u001b[0;31m# No tape is watching; skip to running the function.\u001b[0m\u001b[0;34m\u001b[0m\u001b[0;34m\u001b[0m\u001b[0;34m\u001b[0m\u001b[0m\n\u001b[1;32m   1918\u001b[0m       return self._build_call_outputs(self._inference_function.call(\n\u001b[0;32m-> 1919\u001b[0;31m           ctx, args, cancellation_manager=cancellation_manager))\n\u001b[0m\u001b[1;32m   1920\u001b[0m     forward_backward = self._select_forward_and_backward_functions(\n\u001b[1;32m   1921\u001b[0m         \u001b[0margs\u001b[0m\u001b[0;34m,\u001b[0m\u001b[0;34m\u001b[0m\u001b[0;34m\u001b[0m\u001b[0m\n",
            "\u001b[0;32m/usr/local/lib/python3.6/dist-packages/tensorflow/python/eager/function.py\u001b[0m in \u001b[0;36mcall\u001b[0;34m(self, ctx, args, cancellation_manager)\u001b[0m\n\u001b[1;32m    558\u001b[0m               \u001b[0minputs\u001b[0m\u001b[0;34m=\u001b[0m\u001b[0margs\u001b[0m\u001b[0;34m,\u001b[0m\u001b[0;34m\u001b[0m\u001b[0;34m\u001b[0m\u001b[0m\n\u001b[1;32m    559\u001b[0m               \u001b[0mattrs\u001b[0m\u001b[0;34m=\u001b[0m\u001b[0mattrs\u001b[0m\u001b[0;34m,\u001b[0m\u001b[0;34m\u001b[0m\u001b[0;34m\u001b[0m\u001b[0m\n\u001b[0;32m--> 560\u001b[0;31m               ctx=ctx)\n\u001b[0m\u001b[1;32m    561\u001b[0m         \u001b[0;32melse\u001b[0m\u001b[0;34m:\u001b[0m\u001b[0;34m\u001b[0m\u001b[0;34m\u001b[0m\u001b[0m\n\u001b[1;32m    562\u001b[0m           outputs = execute.execute_with_cancellation(\n",
            "\u001b[0;32m/usr/local/lib/python3.6/dist-packages/tensorflow/python/eager/execute.py\u001b[0m in \u001b[0;36mquick_execute\u001b[0;34m(op_name, num_outputs, inputs, attrs, ctx, name)\u001b[0m\n\u001b[1;32m     58\u001b[0m     \u001b[0mctx\u001b[0m\u001b[0;34m.\u001b[0m\u001b[0mensure_initialized\u001b[0m\u001b[0;34m(\u001b[0m\u001b[0;34m)\u001b[0m\u001b[0;34m\u001b[0m\u001b[0;34m\u001b[0m\u001b[0m\n\u001b[1;32m     59\u001b[0m     tensors = pywrap_tfe.TFE_Py_Execute(ctx._handle, device_name, op_name,\n\u001b[0;32m---> 60\u001b[0;31m                                         inputs, attrs, num_outputs)\n\u001b[0m\u001b[1;32m     61\u001b[0m   \u001b[0;32mexcept\u001b[0m \u001b[0mcore\u001b[0m\u001b[0;34m.\u001b[0m\u001b[0m_NotOkStatusException\u001b[0m \u001b[0;32mas\u001b[0m \u001b[0me\u001b[0m\u001b[0;34m:\u001b[0m\u001b[0;34m\u001b[0m\u001b[0;34m\u001b[0m\u001b[0m\n\u001b[1;32m     62\u001b[0m     \u001b[0;32mif\u001b[0m \u001b[0mname\u001b[0m \u001b[0;32mis\u001b[0m \u001b[0;32mnot\u001b[0m \u001b[0;32mNone\u001b[0m\u001b[0;34m:\u001b[0m\u001b[0;34m\u001b[0m\u001b[0;34m\u001b[0m\u001b[0m\n",
            "\u001b[0;31mKeyboardInterrupt\u001b[0m: "
          ]
        }
      ]
    },
    {
      "cell_type": "markdown",
      "metadata": {
        "id": "K2mD771eQfem"
      },
      "source": [
        "# **Evaluate**"
      ]
    },
    {
      "cell_type": "code",
      "metadata": {
        "id": "tZ6jTHNCJDVQ"
      },
      "source": [
        "model.evaluate(valid_dataset, steps = 8824)"
      ],
      "execution_count": null,
      "outputs": []
    },
    {
      "cell_type": "code",
      "metadata": {
        "id": "G3n7xJHgz337"
      },
      "source": [
        "import os\r\n",
        "from datetime import datetime\r\n",
        "\r\n",
        "def create_csv(results, results_dir='./'):\r\n",
        "\r\n",
        "    csv_fname = 'results_'\r\n",
        "    csv_fname += datetime.now().strftime('%b%d_%H-%M-%S') + '.csv'\r\n",
        "\r\n",
        "    with open(os.path.join(results_dir, csv_fname), 'w') as f:\r\n",
        "\r\n",
        "        f.write('Id,Category\\n')\r\n",
        "\r\n",
        "        for key, value in results.items():\r\n",
        "            f.write(str(key) + ',' + str(value) + '\\n')"
      ],
      "execution_count": null,
      "outputs": []
    },
    {
      "cell_type": "code",
      "metadata": {
        "colab": {
          "base_uri": "https://localhost:8080/"
        },
        "id": "MN1EGUEbs4bh",
        "outputId": "2920cc30-3140-4d1c-91ab-4d109bec285a"
      },
      "source": [
        "results = {}\r\n",
        "image_names =  np.array(test_questions.iloc[1])\r\n",
        "keys = list(test_questions.columns)\r\n",
        "len(keys)\r\n",
        "iterator =  test_dataset.as_numpy_iterator()\r\n",
        "\r\n",
        "for i in range(len(dataset_test)):\r\n",
        "  augmented_img_question = next(iterator)\r\n",
        "  answer_model = model.predict(augmented_img_question)\r\n",
        "  results[keys[i]] = tf.keras.backend.get_value(tf.argmax(answer_model[0], axis=0))"
      ],
      "execution_count": null,
      "outputs": [
        {
          "output_type": "execute_result",
          "data": {
            "text/plain": [
              "6372"
            ]
          },
          "metadata": {
            "tags": []
          },
          "execution_count": 25
        }
      ]
    },
    {
      "cell_type": "code",
      "metadata": {
        "id": "ok9rwSIEs6en"
      },
      "source": [
        "create_csv(results)"
      ],
      "execution_count": null,
      "outputs": []
    }
  ]
}